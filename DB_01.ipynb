{
 "cells": [
  {
   "cell_type": "markdown",
   "metadata": {},
   "source": [
    "# PostgreSQL"
   ]
  },
  {
   "cell_type": "code",
   "execution_count": 4,
   "metadata": {},
   "outputs": [],
   "source": [
    "import psycopg2\n",
    "conn = psycopg2.connect(database=\"test\", user=\"pi\", password=\"\")"
   ]
  },
  {
   "cell_type": "code",
   "execution_count": 5,
   "metadata": {},
   "outputs": [],
   "source": [
    "cur = conn.cursor()"
   ]
  },
  {
   "cell_type": "markdown",
   "metadata": {},
   "source": [
    "## Check Schema"
   ]
  },
  {
   "cell_type": "code",
   "execution_count": 6,
   "metadata": {},
   "outputs": [
    {
     "data": {
      "text/plain": [
       "[('joineddate',), ('people',), ('posts',), ('user_comments',), ('users',)]"
      ]
     },
     "execution_count": 6,
     "metadata": {},
     "output_type": "execute_result"
    }
   ],
   "source": [
    "cur.execute(\"\"\"SELECT table_name FROM information_schema.tables WHERE table_schema='public' ORDER BY table_name\"\"\")\n",
    "[x for x in cur.fetchall()]"
   ]
  },
  {
   "cell_type": "code",
   "execution_count": 7,
   "metadata": {},
   "outputs": [
    {
     "data": {
      "text/plain": [
       "(Column(name='table_name', type_code=1043, display_size=None, internal_size=-1, precision=None, scale=None, null_ok=None),)"
      ]
     },
     "execution_count": 7,
     "metadata": {},
     "output_type": "execute_result"
    }
   ],
   "source": [
    "cur.description"
   ]
  },
  {
   "cell_type": "markdown",
   "metadata": {},
   "source": [
    "## Create tables"
   ]
  },
  {
   "cell_type": "code",
   "execution_count": null,
   "metadata": {},
   "outputs": [],
   "source": [
    "# user_comments table\n",
    "cur.execute(\"\"\"\n",
    "CREATE TABLE user_comments(\n",
    "    id integer PRIMARY KEY,\n",
    "    username text,\n",
    "    posted_datetime timestamp,\n",
    "    comments text\n",
    ")\n",
    "\"\"\")\n",
    "conn.commit()"
   ]
  },
  {
   "cell_type": "code",
   "execution_count": null,
   "metadata": {},
   "outputs": [],
   "source": [
    "#posts table\n",
    "cur.execute(\"\"\"\n",
    "CREATE TABLE posts(\n",
    "    username VARCHAR (255) PRIMARY KEY,\n",
    "    numposts integer\n",
    ")\n",
    "\"\"\")\n",
    "conn.commit()"
   ]
  },
  {
   "cell_type": "code",
   "execution_count": null,
   "metadata": {},
   "outputs": [],
   "source": [
    "#joinedDate table\n",
    "cur.execute(\"\"\"\n",
    "CREATE TABLE joinedDate(\n",
    "    username VARCHAR (255) PRIMARY KEY,\n",
    "    joined_date timestamp\n",
    ")\n",
    "\"\"\")\n",
    "conn.commit()"
   ]
  },
  {
   "cell_type": "code",
   "execution_count": null,
   "metadata": {},
   "outputs": [],
   "source": [
    "#users table\n",
    "cur.execute(\"\"\"\n",
    "CREATE TABLE users(\n",
    "    username VARCHAR (255) PRIMARY KEY,\n",
    "    numposts integer,\n",
    "    joined timestamp\n",
    ")\n",
    "\"\"\")\n",
    "conn.commit()"
   ]
  },
  {
   "cell_type": "markdown",
   "metadata": {},
   "source": [
    "## Load data"
   ]
  },
  {
   "cell_type": "code",
   "execution_count": null,
   "metadata": {},
   "outputs": [],
   "source": [
    "conn = psycopg2.connect(database=\"test\", user=\"pi\", password=\"\")\n",
    "cur = conn.cursor()\n",
    "with open('comma_delim_clean.csv', 'r') as f:\n",
    "    next(f)  # Skip the header row.\n",
    "    cur.copy_from(f, 'testEight', sep=',')\n",
    "    \n",
    "conn.commit()"
   ]
  },
  {
   "cell_type": "code",
   "execution_count": null,
   "metadata": {},
   "outputs": [],
   "source": [
    "conn = psycopg2.connect(database=\"test\", user=\"pi\", password=\"\")\n",
    "cur = conn.cursor()\n",
    "with open('users.csv', 'r') as f:\n",
    "    next(f)  # Skip the header row.\n",
    "    cur.copy_from(f, 'users', sep=',')\n",
    "    \n",
    "conn.commit()"
   ]
  },
  {
   "cell_type": "code",
   "execution_count": null,
   "metadata": {},
   "outputs": [],
   "source": [
    "# build posts table from unique usernames and number of posts\n",
    "cur.execute('INSERT INTO posts(username, numposts) SELECT username, count(DISTINCT comments) AS num_posts FROM user_comments GROUP BY username')\n",
    "conn.commit()"
   ]
  },
  {
   "cell_type": "code",
   "execution_count": null,
   "metadata": {},
   "outputs": [],
   "source": [
    "# build joined table from unique usernames, post_counts, and first post date\n",
    "# cur.execute(\"\"\"INSERT INTO users SELECT p.username, p.numposts, j.joined_date FROM posts p INNER JOIN joinedDate j ON p.username = j.username ORDER BY p.numposts DESC\"\"\")\n",
    "# conn.commit()"
   ]
  },
  {
   "cell_type": "code",
   "execution_count": null,
   "metadata": {},
   "outputs": [],
   "source": [
    "# build users table from unique usernames, post_counts, and first post date\n",
    "cur.execute(\"\"\"INSERT INTO users SELECT p.username, p.numposts, j.joined_date FROM posts p INNER JOIN joinedDate j ON p.username = j.username ORDER BY p.numposts DESC\"\"\")\n",
    "conn.commit()"
   ]
  },
  {
   "cell_type": "code",
   "execution_count": 15,
   "metadata": {},
   "outputs": [],
   "source": [
    "cur.execute(\"\"\"ALTER TABLE users ADD COLUMN is_vip boolean\"\"\")\n",
    "conn.commit()"
   ]
  },
  {
   "cell_type": "code",
   "execution_count": null,
   "metadata": {},
   "outputs": [],
   "source": [
    "cur.execute(\"\"\"UPDATE users SET is_vip = False\"\"\")"
   ]
  },
  {
   "cell_type": "markdown",
   "metadata": {},
   "source": [
    "### Queries"
   ]
  },
  {
   "cell_type": "markdown",
   "metadata": {},
   "source": [
    "---\n",
    "**Question 3**\n",
    "\n",
    "> You’ve cleaned and imported the file above into the database successfully. Great! The data is stored in a table called user_comments. Now you want to list the top-10 most prolific posters, by username. Write a query that produces this result.\n",
    "\n",
    "---"
   ]
  },
  {
   "cell_type": "code",
   "execution_count": 58,
   "metadata": {},
   "outputs": [],
   "source": [
    "cur.execute('SELECT username, count(DISTINCT comments) AS num_posts FROM user_comments GROUP BY username ORDER BY num_posts DESC LIMIT 10')"
   ]
  },
  {
   "cell_type": "code",
   "execution_count": 59,
   "metadata": {},
   "outputs": [],
   "source": [
    "top_posters = cur.fetchall()"
   ]
  },
  {
   "cell_type": "code",
   "execution_count": 60,
   "metadata": {},
   "outputs": [
    {
     "data": {
      "text/plain": [
       "[('tptacek', 6486),\n",
       " ('jacquesm', 4400),\n",
       " ('eru', 4207),\n",
       " ('pjmlp', 3400),\n",
       " ('pg', 2803),\n",
       " ('wmf', 2773),\n",
       " ('jrockway', 2617),\n",
       " ('Tichy', 2588),\n",
       " ('gaius', 2569),\n",
       " ('icebraining', 2361)]"
      ]
     },
     "execution_count": 60,
     "metadata": {},
     "output_type": "execute_result"
    }
   ],
   "source": [
    "top_posters"
   ]
  },
  {
   "cell_type": "markdown",
   "metadata": {},
   "source": [
    "---\n",
    "\n",
    "**Question 4**\n",
    "\n",
    "> There’s another table in your database called users that has the following columns:\n",
    " - username\n",
    " - name\n",
    " - is_vip\n",
    " - joined_datetime\n",
    ">\n",
    "> Write a query that updates the users table so that only the top-10 posters have a value for is_vip.\n",
    "\n",
    "---"
   ]
  },
  {
   "cell_type": "code",
   "execution_count": 72,
   "metadata": {},
   "outputs": [],
   "source": [
    "cur.execute(\"\"\"SELECT username, numposts, joined FROM users GROUP BY username ORDER BY numposts DESC LIMIT 10 \"\"\")"
   ]
  },
  {
   "cell_type": "code",
   "execution_count": 73,
   "metadata": {},
   "outputs": [],
   "source": [
    "test1 = cur.fetchall()"
   ]
  },
  {
   "cell_type": "code",
   "execution_count": 74,
   "metadata": {},
   "outputs": [
    {
     "data": {
      "text/plain": [
       "[('tptacek', 6486, datetime.datetime(2007, 12, 10, 1, 4, 19)),\n",
       " ('jacquesm', 4400, datetime.datetime(2009, 1, 30, 22, 30, 52)),\n",
       " ('eru', 4207, datetime.datetime(2007, 8, 16, 16, 3, 6)),\n",
       " ('pjmlp', 3400, datetime.datetime(2011, 10, 9, 12, 33, 54)),\n",
       " ('pg', 2803, datetime.datetime(2006, 10, 9, 19, 52, 45)),\n",
       " ('wmf', 2773, datetime.datetime(2007, 8, 21, 20, 52, 39)),\n",
       " ('jrockway', 2617, datetime.datetime(2007, 5, 13, 7, 26, 39)),\n",
       " ('Tichy', 2588, datetime.datetime(2007, 3, 31, 22, 12, 20)),\n",
       " ('gaius', 2569, datetime.datetime(2008, 5, 29, 17, 18, 15)),\n",
       " ('icebraining', 2361, datetime.datetime(2011, 6, 20, 10, 26, 6))]"
      ]
     },
     "execution_count": 74,
     "metadata": {},
     "output_type": "execute_result"
    }
   ],
   "source": [
    "test1"
   ]
  },
  {
   "cell_type": "code",
   "execution_count": null,
   "metadata": {},
   "outputs": [],
   "source": [
    "cur.execute(\"\"\"UPDATE users SET is_vip = TRUE WHERE (SELECT username FROM users GROUP BY username ORDER BY numposts DESC LIMIT 10 )\"\"\")"
   ]
  },
  {
   "cell_type": "code",
   "execution_count": null,
   "metadata": {},
   "outputs": [],
   "source": [
    "cur.execute(\"\"\"INSERT INTO users SELECT p.username, p.numposts, j.joined_date FROM posts p INNER JOIN joinedDate j ON p.username = j.username ORDER BY p.numposts DESC\"\"\")"
   ]
  },
  {
   "cell_type": "code",
   "execution_count": null,
   "metadata": {},
   "outputs": [],
   "source": [
    "test2 = cur.fetchall()"
   ]
  },
  {
   "cell_type": "code",
   "execution_count": null,
   "metadata": {},
   "outputs": [],
   "source": [
    "test2"
   ]
  },
  {
   "cell_type": "code",
   "execution_count": null,
   "metadata": {},
   "outputs": [],
   "source": [
    "cur.execute(\"\"\"SET users.is_vip = True WHERE username IN(\n",
    "        SELECT username, count(DISTINCT comments) AS num_posts FROM user_comments GROUP BY username ORDER BY num_posts DESC LIMIT 10\n",
    "        )\"\"\")"
   ]
  },
  {
   "cell_type": "code",
   "execution_count": null,
   "metadata": {},
   "outputs": [],
   "source": [
    "cur.execute(\"\"\"\n",
    "UPDATE users\n",
    "SET is_vip = 1\n",
    "WHERE username (\n",
    "        SELECT username, count(DISTINCT comments) AS num_posts FROM user_comments GROUP BY username ORDER BY num_posts DESC LIMIT 10\n",
    "        )\n",
    "        \"\"\")"
   ]
  },
  {
   "cell_type": "code",
   "execution_count": null,
   "metadata": {},
   "outputs": [],
   "source": [
    "cur.execute('Update users Set is_vip = 1 Where username in (SELECT username, count(DISTINCT comments) as num_posts FROM user_comments GROUP BY username ORDER BY num_posts DESC LIMIT 10)')"
   ]
  },
  {
   "cell_type": "code",
   "execution_count": null,
   "metadata": {},
   "outputs": [],
   "source": [
    "cur.execute('SELECT u.username, c.pasted_datetime FROM users u INNER JOIN user_comments c ON u.username = c.username GROUP BY u.username, c.pasted_datetime')"
   ]
  },
  {
   "cell_type": "markdown",
   "metadata": {},
   "source": [
    "---\n",
    "\n",
    "- **Question 5**\n",
    "\n",
    "> Using both the users and user_comments table, write a query to calculate what percentage of comments were made in the first 30  > days of the users account.\n",
    "---"
   ]
  },
  {
   "cell_type": "code",
   "execution_count": null,
   "metadata": {},
   "outputs": [],
   "source": [
    "# # SQL\n",
    "# CREATE #temp_first_month_posts (\n",
    "#     username VARCHAR(30)\n",
    "#     ,num_posts INT\n",
    "#     );\n",
    "\n",
    "# INSERT INTO #temp_first_month_posts (\n",
    "#     SELECT joined_date, posted_datetime FROM users, user_comments\n",
    "#     ); \n",
    "\n",
    "#     # SQL\n",
    "# CREATE #temp_total_posts (\n",
    "#     username VARCHAR(30)\n",
    "#     ,num_posts INT\n",
    "#     );\n",
    "\n",
    "# INSERT INTO #temp_total_posts (\n",
    "#     SELECT username, count(DISTINCT comments) as num_posts FROM user_comments GROUP BY username ORDER BY num_posts \n",
    "#     ); "
   ]
  },
  {
   "cell_type": "code",
   "execution_count": 63,
   "metadata": {},
   "outputs": [],
   "source": [
    "# num_unique_users\n",
    "# 179400"
   ]
  }
 ],
 "metadata": {
  "kernelspec": {
   "display_name": "Python 3",
   "language": "python",
   "name": "python3"
  },
  "language_info": {
   "codemirror_mode": {
    "name": "ipython",
    "version": 3
   },
   "file_extension": ".py",
   "mimetype": "text/x-python",
   "name": "python",
   "nbconvert_exporter": "python",
   "pygments_lexer": "ipython3",
   "version": "3.5.3"
  }
 },
 "nbformat": 4,
 "nbformat_minor": 2
}
