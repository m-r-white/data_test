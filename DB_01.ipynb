{
 "cells": [
  {
   "cell_type": "markdown",
   "metadata": {},
   "source": [
    "# PostgreSQL"
   ]
  },
  {
   "cell_type": "code",
   "execution_count": 1,
   "metadata": {},
   "outputs": [],
   "source": [
    "import psycopg2\n",
    "conn = psycopg2.connect(database=\"test\", user=\"pi\", password=\"\")"
   ]
  },
  {
   "cell_type": "code",
   "execution_count": 2,
   "metadata": {},
   "outputs": [],
   "source": [
    "cur = conn.cursor()"
   ]
  },
  {
   "cell_type": "markdown",
   "metadata": {},
   "source": [
    "## Check Schema"
   ]
  },
  {
   "cell_type": "code",
   "execution_count": 3,
   "metadata": {},
   "outputs": [],
   "source": [
    "conn.rollback()"
   ]
  },
  {
   "cell_type": "code",
   "execution_count": 4,
   "metadata": {},
   "outputs": [
    {
     "data": {
      "text/plain": [
       "[('joineddate',), ('people',), ('posts',), ('user_comments',), ('users',)]"
      ]
     },
     "execution_count": 4,
     "metadata": {},
     "output_type": "execute_result"
    }
   ],
   "source": [
    "cur.execute(\"\"\"SELECT table_name FROM information_schema.tables WHERE table_schema='public' ORDER BY table_name\"\"\")\n",
    "[x for x in cur.fetchall()]"
   ]
  },
  {
   "cell_type": "code",
   "execution_count": 7,
   "metadata": {},
   "outputs": [
    {
     "data": {
      "text/plain": [
       "(Column(name='table_name', type_code=1043, display_size=None, internal_size=-1, precision=None, scale=None, null_ok=None),)"
      ]
     },
     "execution_count": 7,
     "metadata": {},
     "output_type": "execute_result"
    }
   ],
   "source": [
    "cur.description"
   ]
  },
  {
   "cell_type": "markdown",
   "metadata": {},
   "source": [
    "## Create tables"
   ]
  },
  {
   "cell_type": "code",
   "execution_count": null,
   "metadata": {},
   "outputs": [],
   "source": [
    "# user_comments table\n",
    "cur.execute(\"\"\"\n",
    "CREATE TABLE user_comments(\n",
    "    id integer PRIMARY KEY,\n",
    "    username text,\n",
    "    posted_datetime timestamp,\n",
    "    comments text\n",
    ")\n",
    "\"\"\")\n",
    "conn.commit()"
   ]
  },
  {
   "cell_type": "code",
   "execution_count": null,
   "metadata": {},
   "outputs": [],
   "source": [
    "#posts table\n",
    "cur.execute(\"\"\"\n",
    "CREATE TABLE posts(\n",
    "    username VARCHAR (255) PRIMARY KEY,\n",
    "    numposts integer\n",
    ")\n",
    "\"\"\")\n",
    "conn.commit()"
   ]
  },
  {
   "cell_type": "code",
   "execution_count": null,
   "metadata": {},
   "outputs": [],
   "source": [
    "#joinedDate table\n",
    "cur.execute(\"\"\"\n",
    "CREATE TABLE joinedDate(\n",
    "    username VARCHAR (255) PRIMARY KEY,\n",
    "    joined_date timestamp\n",
    ")\n",
    "\"\"\")\n",
    "conn.commit()"
   ]
  },
  {
   "cell_type": "code",
   "execution_count": null,
   "metadata": {},
   "outputs": [],
   "source": [
    "#users table\n",
    "cur.execute(\"\"\"\n",
    "CREATE TABLE users(\n",
    "    username VARCHAR (255) PRIMARY KEY,\n",
    "    numposts integer,\n",
    "    joined timestamp\n",
    ")\n",
    "\"\"\")\n",
    "conn.commit()"
   ]
  },
  {
   "cell_type": "markdown",
   "metadata": {},
   "source": [
    "## Load data"
   ]
  },
  {
   "cell_type": "code",
   "execution_count": null,
   "metadata": {},
   "outputs": [],
   "source": [
    "conn = psycopg2.connect(database=\"test\", user=\"pi\", password=\"\")\n",
    "cur = conn.cursor()\n",
    "with open('comma_delim_clean.csv', 'r') as f:\n",
    "    next(f)  # Skip the header row.\n",
    "    cur.copy_from(f, 'testEight', sep=',')\n",
    "    \n",
    "conn.commit()"
   ]
  },
  {
   "cell_type": "code",
   "execution_count": null,
   "metadata": {},
   "outputs": [],
   "source": [
    "conn = psycopg2.connect(database=\"test\", user=\"pi\", password=\"\")\n",
    "cur = conn.cursor()\n",
    "with open('users.csv', 'r') as f:\n",
    "    next(f)  # Skip the header row.\n",
    "    cur.copy_from(f, 'users', sep=',')\n",
    "    \n",
    "conn.commit()"
   ]
  },
  {
   "cell_type": "code",
   "execution_count": null,
   "metadata": {},
   "outputs": [],
   "source": [
    "# build posts table from unique usernames and number of posts\n",
    "cur.execute('INSERT INTO posts(username, numposts) SELECT username, count(DISTINCT comments) AS num_posts FROM user_comments GROUP BY username')\n",
    "conn.commit()"
   ]
  },
  {
   "cell_type": "code",
   "execution_count": null,
   "metadata": {},
   "outputs": [],
   "source": [
    "# build joined table from unique usernames, post_counts, and first post date\n",
    "# cur.execute(\"\"\"INSERT INTO users SELECT p.username, p.numposts, j.joined_date FROM posts p INNER JOIN joinedDate j ON p.username = j.username ORDER BY p.numposts DESC\"\"\")\n",
    "# conn.commit()"
   ]
  },
  {
   "cell_type": "code",
   "execution_count": null,
   "metadata": {},
   "outputs": [],
   "source": [
    "# build users table from unique usernames, post_counts, and first post date\n",
    "cur.execute(\"\"\"INSERT INTO users SELECT p.username, p.numposts, j.joined_date FROM posts p INNER JOIN joinedDate j ON p.username = j.username ORDER BY p.numposts DESC\"\"\")\n",
    "conn.commit()"
   ]
  },
  {
   "cell_type": "code",
   "execution_count": null,
   "metadata": {},
   "outputs": [],
   "source": [
    "cur.execute(\"\"\"ALTER TABLE users ADD COLUMN is_vip boolean\"\"\")\n",
    "conn.commit()"
   ]
  },
  {
   "cell_type": "code",
   "execution_count": 84,
   "metadata": {},
   "outputs": [],
   "source": [
    "cur.execute(\"\"\"UPDATE users SET is_vip = False\"\"\")\n",
    "conn.commit()"
   ]
  },
  {
   "cell_type": "markdown",
   "metadata": {},
   "source": [
    "### Queries"
   ]
  },
  {
   "cell_type": "markdown",
   "metadata": {},
   "source": [
    "---\n",
    "**Question 3**\n",
    "\n",
    "> You’ve cleaned and imported the file above into the database successfully. Great! The data is stored in a table called user_comments. Now you want to list the top-10 most prolific posters, by username. Write a query that produces this result.\n",
    "\n",
    "---"
   ]
  },
  {
   "cell_type": "code",
   "execution_count": 4,
   "metadata": {},
   "outputs": [],
   "source": [
    "cur.execute('SELECT username, count(DISTINCT comments) AS num_posts FROM user_comments GROUP BY username ORDER BY num_posts DESC LIMIT 10')"
   ]
  },
  {
   "cell_type": "code",
   "execution_count": 6,
   "metadata": {},
   "outputs": [
    {
     "data": {
      "text/plain": [
       "[('tptacek', 6486),\n",
       " ('jacquesm', 4400),\n",
       " ('eru', 4207),\n",
       " ('pjmlp', 3400),\n",
       " ('pg', 2803),\n",
       " ('wmf', 2773),\n",
       " ('jrockway', 2617),\n",
       " ('Tichy', 2588),\n",
       " ('gaius', 2569),\n",
       " ('icebraining', 2361)]"
      ]
     },
     "execution_count": 6,
     "metadata": {},
     "output_type": "execute_result"
    }
   ],
   "source": [
    "[x for x in cur.fetchall()]"
   ]
  },
  {
   "cell_type": "markdown",
   "metadata": {},
   "source": [
    "---\n",
    "\n",
    "**Question 4**\n",
    "\n",
    "> There’s another table in your database called users that has the following columns:\n",
    " - username\n",
    " - name\n",
    " - is_vip\n",
    " - joined_datetime\n",
    ">\n",
    "> Write a query that updates the users table so that only the top-10 posters have a value for is_vip.\n",
    "\n",
    "---"
   ]
  },
  {
   "cell_type": "code",
   "execution_count": 110,
   "metadata": {},
   "outputs": [],
   "source": [
    "cur.execute(\"\"\"UPDATE users SET is_vip = NOT is_vip WHERE username IN (SELECT username FROM users ORDER BY numposts DESC LIMIT 10)\"\"\")\n",
    "conn.commit()"
   ]
  },
  {
   "cell_type": "code",
   "execution_count": 117,
   "metadata": {},
   "outputs": [],
   "source": [
    "# check is_vip col"
   ]
  },
  {
   "cell_type": "code",
   "execution_count": 7,
   "metadata": {},
   "outputs": [],
   "source": [
    "cur.execute(\"\"\"SELECT * FROM users GROUP BY username ORDER BY numposts DESC LIMIT 25 \"\"\")"
   ]
  },
  {
   "cell_type": "code",
   "execution_count": 8,
   "metadata": {},
   "outputs": [
    {
     "data": {
      "text/plain": [
       "[('tptacek', 6486, datetime.datetime(2007, 12, 10, 1, 4, 19), True),\n",
       " ('jacquesm', 4400, datetime.datetime(2009, 1, 30, 22, 30, 52), True),\n",
       " ('eru', 4207, datetime.datetime(2007, 8, 16, 16, 3, 6), True),\n",
       " ('pjmlp', 3400, datetime.datetime(2011, 10, 9, 12, 33, 54), True),\n",
       " ('pg', 2803, datetime.datetime(2006, 10, 9, 19, 52, 45), True),\n",
       " ('wmf', 2773, datetime.datetime(2007, 8, 21, 20, 52, 39), True),\n",
       " ('jrockway', 2617, datetime.datetime(2007, 5, 13, 7, 26, 39), True),\n",
       " ('Tichy', 2588, datetime.datetime(2007, 3, 31, 22, 12, 20), True),\n",
       " ('gaius', 2569, datetime.datetime(2008, 5, 29, 17, 18, 15), True),\n",
       " ('icebraining', 2361, datetime.datetime(2011, 6, 20, 10, 26, 6), True),\n",
       " ('rbanffy', 2349, datetime.datetime(2008, 4, 12, 14, 31, 4), False),\n",
       " ('StavrosK', 2321, datetime.datetime(2010, 7, 17, 19, 2, 25), False),\n",
       " ('sp332', 2248, datetime.datetime(2009, 4, 29, 15, 54, 22), False),\n",
       " ('JoeAltmaier', 2182, datetime.datetime(2009, 10, 20, 15, 20, 52), False),\n",
       " ('mikeash', 2082, datetime.datetime(2011, 7, 13, 20, 15, 37), False),\n",
       " ('toomuchtodo', 1955, datetime.datetime(2011, 10, 26, 0, 25, 20), False),\n",
       " ('yuhong', 1909, datetime.datetime(2009, 5, 10, 7, 19, 52), False),\n",
       " ('rhizome', 1908, datetime.datetime(2010, 10, 5, 20, 5, 28), False),\n",
       " ('davidw', 1863, datetime.datetime(2007, 2, 22, 19, 21, 23), False),\n",
       " ('sliverstorm', 1862, datetime.datetime(2010, 1, 19, 4, 31, 55), False),\n",
       " ('stcredzero', 1836, datetime.datetime(2008, 2, 1, 16, 20, 28), False),\n",
       " ('agumonkey', 1822, datetime.datetime(2011, 10, 9, 17, 10, 55), False),\n",
       " ('rms', 1806, datetime.datetime(2007, 2, 25, 22, 46, 57), False),\n",
       " ('protomyth', 1806, datetime.datetime(2009, 1, 11, 17, 38, 33), False),\n",
       " ('seanmcdirmid', 1722, datetime.datetime(2012, 3, 22, 2, 21, 33), False)]"
      ]
     },
     "execution_count": 8,
     "metadata": {},
     "output_type": "execute_result"
    }
   ],
   "source": [
    "[x for x in cur.fetchall()]"
   ]
  },
  {
   "cell_type": "markdown",
   "metadata": {},
   "source": [
    "---\n",
    "\n",
    "- **Question 5**\n",
    "\n",
    "> Using both the users and user_comments table, write a query to calculate what percentage of comments were made in the first 30  > days of the users account.\n",
    "---"
   ]
  },
  {
   "cell_type": "code",
   "execution_count": 15,
   "metadata": {},
   "outputs": [],
   "source": [
    "# Total time user has been posting\n",
    "cur.execute(\"\"\"SELECT u.username, (MAX(c.posted_datetime) - u.joined) FROM users u, user_comments c WHERE u.username='tptacek' GROUP BY u.username\"\"\")"
   ]
  },
  {
   "cell_type": "code",
   "execution_count": 16,
   "metadata": {},
   "outputs": [
    {
     "data": {
      "text/plain": [
       "[('tptacek', datetime.timedelta(3885, 29878))]"
      ]
     },
     "execution_count": 16,
     "metadata": {},
     "output_type": "execute_result"
    }
   ],
   "source": [
    "[x for x in cur.fetchall()]"
   ]
  },
  {
   "cell_type": "code",
   "execution_count": 33,
   "metadata": {},
   "outputs": [],
   "source": [
    "# Needed date range (user, first post, 30 days after first post)\n",
    "cur.execute(\"\"\"SELECT u.username, u.joined, (u.joined + interval '30' day) FROM users u, user_comments c WHERE u.username='tptacek' GROUP BY u.username\"\"\")"
   ]
  },
  {
   "cell_type": "code",
   "execution_count": 34,
   "metadata": {},
   "outputs": [
    {
     "data": {
      "text/plain": [
       "[('tptacek',\n",
       "  datetime.datetime(2007, 12, 10, 1, 4, 19),\n",
       "  datetime.datetime(2008, 1, 9, 1, 4, 19))]"
      ]
     },
     "execution_count": 34,
     "metadata": {},
     "output_type": "execute_result"
    }
   ],
   "source": [
    "[x for x in cur.fetchall()]"
   ]
  },
  {
   "cell_type": "code",
   "execution_count": 44,
   "metadata": {},
   "outputs": [],
   "source": [
    "# Number of posts in this range (first 30 days)\n",
    "cur.execute(\"\"\"\n",
    "SELECT COUNT(c.comments), u.username\n",
    "FROM user_comments c, users u\n",
    "WHERE \n",
    "u.username = 'tptacek'\n",
    "AND c.posted_datetime >= u.joined \n",
    "AND c.posted_datetime <=(u.joined + interval '30' day)\n",
    "GROUP BY u.username\n",
    "\"\"\")"
   ]
  },
  {
   "cell_type": "code",
   "execution_count": 45,
   "metadata": {},
   "outputs": [
    {
     "data": {
      "text/plain": [
       "[(1374, 'tptacek')]"
      ]
     },
     "execution_count": 45,
     "metadata": {},
     "output_type": "execute_result"
    }
   ],
   "source": [
    "[x for x in cur.fetchall()]"
   ]
  },
  {
   "cell_type": "code",
   "execution_count": 53,
   "metadata": {},
   "outputs": [],
   "source": [
    "# Percentage of posts in this range (first 30 days) out of total\n",
    "cur.execute(\"\"\"\n",
    "SELECT u.username, (COUNT(u.numposts) / COUNT(c.comments)) * 100\n",
    "FROM user_comments c, users u\n",
    "WHERE \n",
    "u.username = 'tptacek'\n",
    "AND c.posted_datetime >= u.joined \n",
    "AND c.posted_datetime <=(u.joined + interval '30' day)\n",
    "GROUP BY u.username\n",
    "\"\"\")"
   ]
  },
  {
   "cell_type": "code",
   "execution_count": 54,
   "metadata": {},
   "outputs": [
    {
     "data": {
      "text/plain": [
       "[('tptacek', 100)]"
      ]
     },
     "execution_count": 54,
     "metadata": {},
     "output_type": "execute_result"
    }
   ],
   "source": [
    "[x for x in cur.fetchall()]"
   ]
  },
  {
   "cell_type": "markdown",
   "metadata": {},
   "source": [
    "---\n",
    "---\n",
    "---"
   ]
  },
  {
   "cell_type": "code",
   "execution_count": 83,
   "metadata": {},
   "outputs": [],
   "source": [
    "cur.execute(\"\"\"\n",
    "SELECT COUNT(c.comments)\n",
    "FROM user_comments c, users u\n",
    "WHERE \n",
    "u.username = 'tptacek'\n",
    "AND c.posted_datetime >= u.joined \n",
    "AND c.posted_datetime <=(u.joined + interval '30' day)\n",
    "GROUP BY u.username\n",
    "\"\"\")\n",
    "first_month = cur.fetchone()"
   ]
  },
  {
   "cell_type": "code",
   "execution_count": 84,
   "metadata": {},
   "outputs": [],
   "source": [
    "total = cur.execute(\"\"\"\n",
    "SELECT numposts\n",
    "FROM users\n",
    "WHERE \n",
    "username = 'tptacek'\n",
    "\"\"\")\n",
    "total = cur.fetchone()"
   ]
  },
  {
   "cell_type": "code",
   "execution_count": 87,
   "metadata": {},
   "outputs": [
    {
     "data": {
      "text/plain": [
       "21.1840888066605"
      ]
     },
     "execution_count": 87,
     "metadata": {},
     "output_type": "execute_result"
    }
   ],
   "source": [
    "first_month[0] / total[0] * 100"
   ]
  },
  {
   "cell_type": "code",
   "execution_count": 59,
   "metadata": {},
   "outputs": [],
   "source": [
    "conn.rollback()"
   ]
  },
  {
   "cell_type": "code",
   "execution_count": null,
   "metadata": {},
   "outputs": [],
   "source": [
    "# for row in cur.execute(\"\"\"SELECT * FROM users\"\"\"):\n",
    "#     total_posts = posts\n",
    "#     first_30_range = joined + 30d\n",
    "#     first_30_posts = posts IN first_30_range\n",
    "#     answer = (COUNT(first_30_posts) / COUNT(total_posts)) * 100"
   ]
  }
 ],
 "metadata": {
  "kernelspec": {
   "display_name": "Python 3",
   "language": "python",
   "name": "python3"
  },
  "language_info": {
   "codemirror_mode": {
    "name": "ipython",
    "version": 3
   },
   "file_extension": ".py",
   "mimetype": "text/x-python",
   "name": "python",
   "nbconvert_exporter": "python",
   "pygments_lexer": "ipython3",
   "version": "3.5.3"
  }
 },
 "nbformat": 4,
 "nbformat_minor": 2
}
