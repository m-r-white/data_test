{
 "cells": [
  {
   "cell_type": "markdown",
   "metadata": {},
   "source": [
    "# Data Test\n",
    "\n",
    "---\n",
    "#### **Part I: File Parsing**\n",
    "---\n",
    "\n",
    " - **Question 1**\n",
    "\n",
    "> The accompanying file, data_test.gz, is a compressed file containing 2,000,000 rows of data, with the following fields:\n",
    "- id\n",
    "- username\n",
    "- posted_datetime\n",
    "- comments\n",
    ">\n",
    "> To import this file into our database, we need the file to be tab-delimited. Unfortunately, the tech person at the client  site pulled the data and used the ESC character as the delimiter. We need to clean up this file and replace the ESC delimiter with a tab.\n",
    "You can use whatever language or tool you want, but show how you’d create the new, cleaned file.\n",
    "\n",
    " - **Question 2**\n",
    "\n",
    "> Turns out tab-delimited isn’t going to work out either. We need the file to be in CSV format. The trick here is that the comments column in the file has data containing commas. So we need to be sure to escape things properly. You can use whatever language or tool you want, but show how you’d create the new, cleaned file.\n",
    "\n",
    "---"
   ]
  },
  {
   "cell_type": "code",
   "execution_count": 1,
   "metadata": {},
   "outputs": [
    {
     "name": "stdout",
     "output_type": "stream",
     "text": [
      "Data_test_2018_08_01.ipynb       data_test_2m.esc\r\n",
      "Data_test_2018_08_01.ipynb copy  output.csv\r\n",
      "comma_delim_clean.csv            tab_delim_clean.csv\r\n",
      "comma_delim_trunc.csv\r\n"
     ]
    }
   ],
   "source": [
    "ls"
   ]
  },
  {
   "cell_type": "markdown",
   "metadata": {},
   "source": [
    "#### Load imports, Pandas for data manipulation and the \"csv standard library\" for read/write capabilities."
   ]
  },
  {
   "cell_type": "code",
   "execution_count": 3,
   "metadata": {},
   "outputs": [],
   "source": [
    "import pandas as pd\n",
    "import csv\n",
    "pd.set_option('display.max_colwidth', -1) # do not truncate comments row, need to see this for cleaning"
   ]
  },
  {
   "cell_type": "markdown",
   "metadata": {},
   "source": [
    "#### Read the data file into Pandas using the ESC delimiter (\"\\33\" not working either, will need to get to the bottom of this but can clean easily for now)"
   ]
  },
  {
   "cell_type": "code",
   "execution_count": 4,
   "metadata": {},
   "outputs": [],
   "source": [
    "df = pd.read_csv('data_test_2m.esc', sep='\\3')"
   ]
  },
  {
   "cell_type": "markdown",
   "metadata": {},
   "source": [
    "#### Check the number of rows/columns"
   ]
  },
  {
   "cell_type": "code",
   "execution_count": 5,
   "metadata": {},
   "outputs": [
    {
     "name": "stdout",
     "output_type": "stream",
     "text": [
      "Rows:  2000000 \n",
      "Columns:  4\n"
     ]
    }
   ],
   "source": [
    "print('Rows: ', df.shape[0], '\\nColumns: ', df.shape[1])"
   ]
  },
  {
   "cell_type": "markdown",
   "metadata": {},
   "source": [
    "#### Check data types and column names"
   ]
  },
  {
   "cell_type": "code",
   "execution_count": 6,
   "metadata": {},
   "outputs": [
    {
     "name": "stdout",
     "output_type": "stream",
     "text": [
      "<class 'pandas.core.frame.DataFrame'>\n",
      "RangeIndex: 2000000 entries, 0 to 1999999\n",
      "Data columns (total 4 columns):\n",
      "id                  int64\n",
      "3username           object\n",
      "3posted_datetime    object\n",
      "3comments           object\n",
      "dtypes: int64(1), object(3)\n",
      "memory usage: 584.5 MB\n"
     ]
    }
   ],
   "source": [
    "df.info(memory_usage='deep')"
   ]
  },
  {
   "cell_type": "markdown",
   "metadata": {},
   "source": [
    "#### Rename columns"
   ]
  },
  {
   "cell_type": "code",
   "execution_count": 7,
   "metadata": {},
   "outputs": [],
   "source": [
    "df.columns = ['id', 'username', 'posted_datetime', 'comments']"
   ]
  },
  {
   "cell_type": "code",
   "execution_count": null,
   "metadata": {},
   "outputs": [],
   "source": [
    "# TODO: Would like to verify all cells begin with a 3 before editing directly\n",
    "# assert df.loc[:, 'username'][0][0] == '3'"
   ]
  },
  {
   "cell_type": "markdown",
   "metadata": {},
   "source": [
    "#### Drop the '3' left over from the ESC delimiter in front of every cell from the columns: 'username', 'posted_datetime', and 'comments'.\n",
    " - For every cell in the column, replace with the cell's second character to the end of the cell"
   ]
  },
  {
   "cell_type": "code",
   "execution_count": 8,
   "metadata": {},
   "outputs": [],
   "source": [
    "df.loc[:, 'username'] = df.loc[:, 'username'].str[1:] "
   ]
  },
  {
   "cell_type": "code",
   "execution_count": 9,
   "metadata": {},
   "outputs": [],
   "source": [
    "df.loc[:, 'posted_datetime'] = df.loc[:, 'posted_datetime'].str[1:] "
   ]
  },
  {
   "cell_type": "code",
   "execution_count": 10,
   "metadata": {},
   "outputs": [],
   "source": [
    "df.loc[:, 'comments'] = df.loc[:, 'comments'].str[1:] "
   ]
  },
  {
   "cell_type": "markdown",
   "metadata": {},
   "source": [
    "#### Check for nulls"
   ]
  },
  {
   "cell_type": "code",
   "execution_count": 11,
   "metadata": {},
   "outputs": [
    {
     "data": {
      "text/plain": [
       "id                 0\n",
       "username           0\n",
       "posted_datetime    0\n",
       "comments           0\n",
       "dtype: int64"
      ]
     },
     "execution_count": 11,
     "metadata": {},
     "output_type": "execute_result"
    }
   ],
   "source": [
    "df.isnull().sum()"
   ]
  },
  {
   "cell_type": "markdown",
   "metadata": {},
   "source": [
    "#### Drop commas and backslashes from comments column for SQL"
   ]
  },
  {
   "cell_type": "code",
   "execution_count": 12,
   "metadata": {},
   "outputs": [],
   "source": [
    "df['comments'] = df['comments'].str.replace(',', '')"
   ]
  },
  {
   "cell_type": "code",
   "execution_count": 13,
   "metadata": {},
   "outputs": [],
   "source": [
    "df['comments'] = df['comments'].str.replace('\\\\', '')"
   ]
  },
  {
   "cell_type": "markdown",
   "metadata": {},
   "source": [
    "#### Replace the index Pandas created by default with the \"id\" column, this will be used at the primary key in SQL and must be unique, so make sure."
   ]
  },
  {
   "cell_type": "code",
   "execution_count": 16,
   "metadata": {},
   "outputs": [
    {
     "data": {
      "text/html": [
       "<div>\n",
       "<style scoped>\n",
       "    .dataframe tbody tr th:only-of-type {\n",
       "        vertical-align: middle;\n",
       "    }\n",
       "\n",
       "    .dataframe tbody tr th {\n",
       "        vertical-align: top;\n",
       "    }\n",
       "\n",
       "    .dataframe thead th {\n",
       "        text-align: right;\n",
       "    }\n",
       "</style>\n",
       "<table border=\"1\" class=\"dataframe\">\n",
       "  <thead>\n",
       "    <tr style=\"text-align: right;\">\n",
       "      <th></th>\n",
       "      <th>id</th>\n",
       "      <th>username</th>\n",
       "      <th>posted_datetime</th>\n",
       "      <th>comments</th>\n",
       "    </tr>\n",
       "  </thead>\n",
       "  <tbody>\n",
       "    <tr>\n",
       "      <th>0</th>\n",
       "      <td>14414747</td>\n",
       "      <td>wichcraft</td>\n",
       "      <td>2017-05-25 01:38:41</td>\n",
       "      <td>i am curious where you get the quote from for each book.</td>\n",
       "    </tr>\n",
       "  </tbody>\n",
       "</table>\n",
       "</div>"
      ],
      "text/plain": [
       "         id   username      posted_datetime  \\\n",
       "0  14414747  wichcraft  2017-05-25 01:38:41   \n",
       "\n",
       "                                                   comments  \n",
       "0  i am curious where you get the quote from for each book.  "
      ]
     },
     "execution_count": 16,
     "metadata": {},
     "output_type": "execute_result"
    }
   ],
   "source": [
    "df.head(1)"
   ]
  },
  {
   "cell_type": "code",
   "execution_count": 17,
   "metadata": {},
   "outputs": [
    {
     "data": {
      "text/plain": [
       "True"
      ]
     },
     "execution_count": 17,
     "metadata": {},
     "output_type": "execute_result"
    }
   ],
   "source": [
    "df.loc[:, 'id'].is_unique"
   ]
  },
  {
   "cell_type": "code",
   "execution_count": 18,
   "metadata": {},
   "outputs": [],
   "source": [
    "df.set_index('id', inplace=True)"
   ]
  },
  {
   "cell_type": "markdown",
   "metadata": {},
   "source": [
    "#### Have another look, should be clean"
   ]
  },
  {
   "cell_type": "code",
   "execution_count": 19,
   "metadata": {},
   "outputs": [
    {
     "data": {
      "text/html": [
       "<div>\n",
       "<style scoped>\n",
       "    .dataframe tbody tr th:only-of-type {\n",
       "        vertical-align: middle;\n",
       "    }\n",
       "\n",
       "    .dataframe tbody tr th {\n",
       "        vertical-align: top;\n",
       "    }\n",
       "\n",
       "    .dataframe thead th {\n",
       "        text-align: right;\n",
       "    }\n",
       "</style>\n",
       "<table border=\"1\" class=\"dataframe\">\n",
       "  <thead>\n",
       "    <tr style=\"text-align: right;\">\n",
       "      <th></th>\n",
       "      <th>username</th>\n",
       "      <th>posted_datetime</th>\n",
       "      <th>comments</th>\n",
       "    </tr>\n",
       "    <tr>\n",
       "      <th>id</th>\n",
       "      <th></th>\n",
       "      <th></th>\n",
       "      <th></th>\n",
       "    </tr>\n",
       "  </thead>\n",
       "  <tbody>\n",
       "    <tr>\n",
       "      <th>14414747</th>\n",
       "      <td>wichcraft</td>\n",
       "      <td>2017-05-25 01:38:41</td>\n",
       "      <td>i am curious where you get the quote from for each book.</td>\n",
       "    </tr>\n",
       "    <tr>\n",
       "      <th>1652097</th>\n",
       "      <td>brandnewlow</td>\n",
       "      <td>2010-09-01 07:01:24</td>\n",
       "      <td>Very fair.  Duly noted.</td>\n",
       "    </tr>\n",
       "    <tr>\n",
       "      <th>2980343</th>\n",
       "      <td>darrenkopp</td>\n",
       "      <td>2011-09-10 00:26:41</td>\n",
       "      <td>We're pretty good at it now. A=Republicans B=Democrats. We switch every couple of election cycles and see how it goes.</td>\n",
       "    </tr>\n",
       "    <tr>\n",
       "      <th>5573111</th>\n",
       "      <td>SG-</td>\n",
       "      <td>2013-04-18 21:10:58</td>\n",
       "      <td>OVH also has a datacenter in Montreal.</td>\n",
       "    </tr>\n",
       "    <tr>\n",
       "      <th>17088135</th>\n",
       "      <td>namibj</td>\n",
       "      <td>2018-05-17 02:06:42</td>\n",
       "      <td>Blockchain? No seriously just a block-oriented write-ahead-log replicated to the towers allowing them to cheaply-ish verify a proof-of-traffic quota.</td>\n",
       "    </tr>\n",
       "  </tbody>\n",
       "</table>\n",
       "</div>"
      ],
      "text/plain": [
       "             username      posted_datetime  \\\n",
       "id                                           \n",
       "14414747  wichcraft    2017-05-25 01:38:41   \n",
       "1652097   brandnewlow  2010-09-01 07:01:24   \n",
       "2980343   darrenkopp   2011-09-10 00:26:41   \n",
       "5573111   SG-          2013-04-18 21:10:58   \n",
       "17088135  namibj       2018-05-17 02:06:42   \n",
       "\n",
       "                                                                                                                                                       comments  \n",
       "id                                                                                                                                                               \n",
       "14414747  i am curious where you get the quote from for each book.                                                                                               \n",
       "1652097   Very fair.  Duly noted.                                                                                                                                \n",
       "2980343   We're pretty good at it now. A=Republicans B=Democrats. We switch every couple of election cycles and see how it goes.                                 \n",
       "5573111   OVH also has a datacenter in Montreal.                                                                                                                 \n",
       "17088135  Blockchain? No seriously just a block-oriented write-ahead-log replicated to the towers allowing them to cheaply-ish verify a proof-of-traffic quota.  "
      ]
     },
     "execution_count": 19,
     "metadata": {},
     "output_type": "execute_result"
    }
   ],
   "source": [
    "df.head()"
   ]
  },
  {
   "cell_type": "markdown",
   "metadata": {},
   "source": [
    "#### Save as clean TAB delimited file named 'tab_delim_clean.csv'"
   ]
  },
  {
   "cell_type": "code",
   "execution_count": 20,
   "metadata": {},
   "outputs": [],
   "source": [
    "df.to_csv('tab_delim_clean.csv', sep='\\t')"
   ]
  },
  {
   "cell_type": "markdown",
   "metadata": {},
   "source": [
    "#### Save as clean comma delimited file named 'comma_delim_clean.csv'"
   ]
  },
  {
   "cell_type": "code",
   "execution_count": 21,
   "metadata": {},
   "outputs": [],
   "source": [
    "df.to_csv('comma_delim_clean.csv', sep=',')"
   ]
  },
  {
   "cell_type": "markdown",
   "metadata": {},
   "source": [
    "#### Save as truncated, clean comma delimited file named 'comma_delim_trunc.csv' for testing"
   ]
  },
  {
   "cell_type": "code",
   "execution_count": 22,
   "metadata": {},
   "outputs": [],
   "source": [
    "df.head(500).to_csv('comma_delim_trunc.csv', sep=',')"
   ]
  },
  {
   "cell_type": "markdown",
   "metadata": {},
   "source": [
    "#### Test load 'comma_delim_clean.csv' with default seperator ','"
   ]
  },
  {
   "cell_type": "code",
   "execution_count": 33,
   "metadata": {},
   "outputs": [
    {
     "name": "stderr",
     "output_type": "stream",
     "text": [
      "/Users/mwhite/anaconda/lib/python3.6/site-packages/numpy/lib/arraysetops.py:472: FutureWarning: elementwise comparison failed; returning scalar instead, but in the future will perform elementwise comparison\n",
      "  mask |= (ar1 == a)\n"
     ]
    }
   ],
   "source": [
    "df2 = pd.read_csv('comma_delim_clean.csv', index_col='id')\n",
    "# FutureWarning is OK:\n",
    "# https://stackoverflow.com/questions/40659212/futurewarning-elementwise-comparison-failed-returning-scalar-but-in-the-futur"
   ]
  },
  {
   "cell_type": "code",
   "execution_count": 34,
   "metadata": {},
   "outputs": [
    {
     "data": {
      "text/plain": [
       "(2000000, 3)"
      ]
     },
     "execution_count": 34,
     "metadata": {},
     "output_type": "execute_result"
    }
   ],
   "source": [
    "df2.shape"
   ]
  },
  {
   "cell_type": "code",
   "execution_count": 35,
   "metadata": {},
   "outputs": [
    {
     "data": {
      "text/html": [
       "<div>\n",
       "<style scoped>\n",
       "    .dataframe tbody tr th:only-of-type {\n",
       "        vertical-align: middle;\n",
       "    }\n",
       "\n",
       "    .dataframe tbody tr th {\n",
       "        vertical-align: top;\n",
       "    }\n",
       "\n",
       "    .dataframe thead th {\n",
       "        text-align: right;\n",
       "    }\n",
       "</style>\n",
       "<table border=\"1\" class=\"dataframe\">\n",
       "  <thead>\n",
       "    <tr style=\"text-align: right;\">\n",
       "      <th></th>\n",
       "      <th>username</th>\n",
       "      <th>posted_datetime</th>\n",
       "      <th>comments</th>\n",
       "    </tr>\n",
       "    <tr>\n",
       "      <th>id</th>\n",
       "      <th></th>\n",
       "      <th></th>\n",
       "      <th></th>\n",
       "    </tr>\n",
       "  </thead>\n",
       "  <tbody>\n",
       "    <tr>\n",
       "      <th>14414747</th>\n",
       "      <td>wichcraft</td>\n",
       "      <td>2017-05-25 01:38:41</td>\n",
       "      <td>i am curious where you get the quote from for each book.</td>\n",
       "    </tr>\n",
       "    <tr>\n",
       "      <th>1652097</th>\n",
       "      <td>brandnewlow</td>\n",
       "      <td>2010-09-01 07:01:24</td>\n",
       "      <td>Very fair.  Duly noted.</td>\n",
       "    </tr>\n",
       "    <tr>\n",
       "      <th>2980343</th>\n",
       "      <td>darrenkopp</td>\n",
       "      <td>2011-09-10 00:26:41</td>\n",
       "      <td>We're pretty good at it now. A=Republicans B=Democrats. We switch every couple of election cycles and see how it goes.</td>\n",
       "    </tr>\n",
       "    <tr>\n",
       "      <th>5573111</th>\n",
       "      <td>SG-</td>\n",
       "      <td>2013-04-18 21:10:58</td>\n",
       "      <td>OVH also has a datacenter in Montreal.</td>\n",
       "    </tr>\n",
       "    <tr>\n",
       "      <th>17088135</th>\n",
       "      <td>namibj</td>\n",
       "      <td>2018-05-17 02:06:42</td>\n",
       "      <td>Blockchain? No seriously just a block-oriented write-ahead-log replicated to the towers allowing them to cheaply-ish verify a proof-of-traffic quota.</td>\n",
       "    </tr>\n",
       "  </tbody>\n",
       "</table>\n",
       "</div>"
      ],
      "text/plain": [
       "             username      posted_datetime  \\\n",
       "id                                           \n",
       "14414747  wichcraft    2017-05-25 01:38:41   \n",
       "1652097   brandnewlow  2010-09-01 07:01:24   \n",
       "2980343   darrenkopp   2011-09-10 00:26:41   \n",
       "5573111   SG-          2013-04-18 21:10:58   \n",
       "17088135  namibj       2018-05-17 02:06:42   \n",
       "\n",
       "                                                                                                                                                       comments  \n",
       "id                                                                                                                                                               \n",
       "14414747  i am curious where you get the quote from for each book.                                                                                               \n",
       "1652097   Very fair.  Duly noted.                                                                                                                                \n",
       "2980343   We're pretty good at it now. A=Republicans B=Democrats. We switch every couple of election cycles and see how it goes.                                 \n",
       "5573111   OVH also has a datacenter in Montreal.                                                                                                                 \n",
       "17088135  Blockchain? No seriously just a block-oriented write-ahead-log replicated to the towers allowing them to cheaply-ish verify a proof-of-traffic quota.  "
      ]
     },
     "execution_count": 35,
     "metadata": {},
     "output_type": "execute_result"
    }
   ],
   "source": [
    "df2.head()"
   ]
  },
  {
   "cell_type": "markdown",
   "metadata": {},
   "source": [
    "---\n",
    "## **Part II: SQL**\n",
    "---\n",
    "\n",
    " - **Question 3**\n",
    "\n",
    "> You’ve cleaned and imported the file above into the database successfully. Great! The data is stored in a table called user_comments. Now you want to list the top-10 most prolific posters, by username. Write a query that produces this result."
   ]
  },
  {
   "cell_type": "code",
   "execution_count": null,
   "metadata": {},
   "outputs": [],
   "source": [
    "# SQL\n",
    "SELECT username, count(DISTINCT comments) as num_posts\n",
    "FROM user_comments\n",
    "GROUP BY username\n",
    "ORDER BY num_posts DESC LIMIT 10"
   ]
  },
  {
   "cell_type": "markdown",
   "metadata": {},
   "source": [
    " ---\n",
    " - **Question 4**\n",
    "\n",
    "> There’s another table in your database called users that has the following columns:\n",
    " - username\n",
    " - name\n",
    " - is_vip\n",
    " - joined_datetime\n",
    ">\n",
    "> Write a query that updates the users table so that only the top-10 posters have a value for is_vip."
   ]
  },
  {
   "cell_type": "code",
   "execution_count": null,
   "metadata": {},
   "outputs": [],
   "source": [
    "CREATE #temptable (\n",
    "    username VARCHAR(30)\n",
    "    ,num_posts INT\n",
    "    );\n",
    "\n",
    "INSERT INTO #temptable (\n",
    "    SELECT username\n",
    "    ,count(DISTINCT comments) FROM user_comments GROUP BY username ORDER BY num_posts DESC LIMIT 10\n",
    "    ); \n",
    "\n",
    "UPDATE users\n",
    "SET is_vip = 1\n",
    "WHERE username IN (\n",
    "        SELECT username\n",
    "        FROM #temptable\n",
    "        );\n",
    "\n",
    "DROP TABLE #temptable;"
   ]
  },
  {
   "cell_type": "markdown",
   "metadata": {},
   "source": [
    "---\n",
    "- **Question 5**\n",
    "\n",
    "> Using both the users and user_comments table, write a query to calculate what percentage of comments were made in the first 30  > days of the users account."
   ]
  },
  {
   "cell_type": "markdown",
   "metadata": {},
   "source": [
    "get number of comments in the first 30 days \n",
    "\n",
    "get total number of comments \n",
    "\n",
    "divide the 2 and multiply by 100"
   ]
  },
  {
   "cell_type": "code",
   "execution_count": null,
   "metadata": {},
   "outputs": [],
   "source": [
    "# SQL\n",
    "CREATE #temp_first_month_posts (\n",
    "    username VARCHAR(30)\n",
    "    ,num_posts INT\n",
    "    );\n",
    "\n",
    "INSERT INTO #temp_first_month_posts (\n",
    "    SELECT joined_date, posted_datetime FROM users, user_comments\n",
    "    ); \n",
    "\n",
    "    # SQL\n",
    "CREATE #temp_total_posts (\n",
    "    username VARCHAR(30)\n",
    "    ,num_posts INT\n",
    "    );\n",
    "\n",
    "INSERT INTO #temp_total_posts (\n",
    "    SELECT username, count(DISTINCT comments) as num_posts FROM user_comments GROUP BY username ORDER BY num_posts \n",
    "    ); "
   ]
  }
 ],
 "metadata": {
  "kernelspec": {
   "display_name": "Python 3",
   "language": "python",
   "name": "python3"
  },
  "language_info": {
   "codemirror_mode": {
    "name": "ipython",
    "version": 3
   },
   "file_extension": ".py",
   "mimetype": "text/x-python",
   "name": "python",
   "nbconvert_exporter": "python",
   "pygments_lexer": "ipython3",
   "version": "3.6.5"
  }
 },
 "nbformat": 4,
 "nbformat_minor": 2
}
