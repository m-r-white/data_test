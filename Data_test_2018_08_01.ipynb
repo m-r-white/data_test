{
 "cells": [
  {
   "cell_type": "markdown",
   "metadata": {},
   "source": [
    "# Data Test\n",
    "\n",
    "---\n",
    " - Data: https://drive.google.com/drive/folders/1nbabX6sSNQ4fvMYWDpDX511qUhFJJWCL\n",
    "\n",
    "---\n",
    "\n",
    "#### **Part I: File Parsing**\n",
    "\n",
    "\n",
    " - **Question 1**\n",
    "\n",
    "> The accompanying file, data_test.gz, is a compressed file containing 2,000,000 rows of data, with the following fields:\n",
    "- id\n",
    "- username\n",
    "- posted_datetime\n",
    "- comments\n",
    ">\n",
    "> To import this file into our database, we need the file to be tab-delimited. Unfortunately, the tech person at the client  >  > site pulled the data and used the ESC character as the delimiter. We need to clean up this file and replace the ESC delimiter > with a tab.\n",
    "You can use whatever language or tool you want, but show how you’d create the new, cleaned file.\n",
    "\n",
    " - **Question 2**\n",
    "\n",
    "> Turns out tab-delimited isn’t going to work out either. We need the file to be in CSV format. The trick here is that the comments column in the file has data containing commas. So we need to be sure to escape things properly.\n",
    ">\n",
    "> You can use whatever language or tool you want, but show how you’d create the new, cleaned file.\n",
    "\n",
    "---\n",
    "#### **Part II: SQL**\n",
    "\n",
    " - **Question 3**\n",
    "\n",
    "> You’ve cleaned and imported the file above into the database successfully. Great! The data is stored in a table called user_comments. Now you want to list the top-10 most prolific posters, by username. Write a query that produces this result.\n",
    "\n",
    "\n",
    " - **Question 4**\n",
    "\n",
    "> There’s another table in your database called users that has the following columns:\n",
    " - username\n",
    " - name\n",
    " - is_vip\n",
    " - joined_datetime\n",
    ">\n",
    "> Write a query that updates the users table so that only the top-10 posters have a value for is_vip.\n",
    "\n",
    "- **Question 5**\n",
    "\n",
    "> Using both the users and user_comments table, write a query to calculate what percentage of comments were made in the first 30 days of the users account."
   ]
  },
  {
   "cell_type": "code",
   "execution_count": 39,
   "metadata": {},
   "outputs": [
    {
     "name": "stdout",
     "output_type": "stream",
     "text": [
      "Data_test_2018_08_01.ipynb  data_test_2m.esc copy\r\n",
      "comma_delim_clean.csv       output.csv\r\n",
      "data_test_2m.esc            tab_delim_file.csv\r\n"
     ]
    }
   ],
   "source": [
    "ls"
   ]
  },
  {
   "cell_type": "markdown",
   "metadata": {},
   "source": [
    "#### Load imports, Pandas for data manipulation and the \"csv standard library\" for read/write capabilities"
   ]
  },
  {
   "cell_type": "code",
   "execution_count": 40,
   "metadata": {},
   "outputs": [],
   "source": [
    "import pandas as pd\n",
    "import csv"
   ]
  },
  {
   "cell_type": "markdown",
   "metadata": {},
   "source": [
    "#### Read the data file row by row, replace the delimiters (fom ESC to TAB), then save as a new file (output.csv)"
   ]
  },
  {
   "cell_type": "code",
   "execution_count": 41,
   "metadata": {},
   "outputs": [],
   "source": [
    "reader = csv.reader(open(\"data_test_2m.esc\", \"r\"), delimiter='\\3')\n",
    "writer = csv.writer(open(\"output.csv\", 'w'), delimiter='\\t')\n",
    "writer.writerows(reader)"
   ]
  },
  {
   "cell_type": "markdown",
   "metadata": {},
   "source": [
    "#### Load into Pandas the new TAB delimited file to inspect"
   ]
  },
  {
   "cell_type": "code",
   "execution_count": 42,
   "metadata": {},
   "outputs": [],
   "source": [
    "df = pd.read_csv('output.csv', sep='\\t')"
   ]
  },
  {
   "cell_type": "markdown",
   "metadata": {},
   "source": [
    "#### Check the number of rows/columns"
   ]
  },
  {
   "cell_type": "code",
   "execution_count": 43,
   "metadata": {},
   "outputs": [
    {
     "name": "stdout",
     "output_type": "stream",
     "text": [
      "Rows:  1985554 \n",
      "Columns:  4\n"
     ]
    }
   ],
   "source": [
    "print('Rows: ', df.shape[0], '\\nColumns: ', df.shape[1])"
   ]
  },
  {
   "cell_type": "markdown",
   "metadata": {},
   "source": [
    "#### Check data types and column names"
   ]
  },
  {
   "cell_type": "code",
   "execution_count": 44,
   "metadata": {},
   "outputs": [
    {
     "name": "stdout",
     "output_type": "stream",
     "text": [
      "<class 'pandas.core.frame.DataFrame'>\n",
      "RangeIndex: 1985554 entries, 0 to 1985553\n",
      "Data columns (total 4 columns):\n",
      "id                  int64\n",
      "3username           object\n",
      "3posted_datetime    object\n",
      "3comments           object\n",
      "dtypes: int64(1), object(3)\n",
      "memory usage: 580.3 MB\n"
     ]
    }
   ],
   "source": [
    "df.info(memory_usage='deep')"
   ]
  },
  {
   "cell_type": "markdown",
   "metadata": {},
   "source": [
    "#### Rename columns"
   ]
  },
  {
   "cell_type": "code",
   "execution_count": 45,
   "metadata": {},
   "outputs": [],
   "source": [
    "df.columns = ['id', 'username', 'posted_datetime', 'comments']"
   ]
  },
  {
   "cell_type": "code",
   "execution_count": 46,
   "metadata": {},
   "outputs": [
    {
     "data": {
      "text/html": [
       "<div>\n",
       "<style scoped>\n",
       "    .dataframe tbody tr th:only-of-type {\n",
       "        vertical-align: middle;\n",
       "    }\n",
       "\n",
       "    .dataframe tbody tr th {\n",
       "        vertical-align: top;\n",
       "    }\n",
       "\n",
       "    .dataframe thead th {\n",
       "        text-align: right;\n",
       "    }\n",
       "</style>\n",
       "<table border=\"1\" class=\"dataframe\">\n",
       "  <thead>\n",
       "    <tr style=\"text-align: right;\">\n",
       "      <th></th>\n",
       "      <th>id</th>\n",
       "      <th>username</th>\n",
       "      <th>posted_datetime</th>\n",
       "      <th>comments</th>\n",
       "    </tr>\n",
       "  </thead>\n",
       "  <tbody>\n",
       "    <tr>\n",
       "      <th>0</th>\n",
       "      <td>14414747</td>\n",
       "      <td>3wichcraft</td>\n",
       "      <td>32017-05-25 01:38:41</td>\n",
       "      <td>3i am curious where you get the quote from for...</td>\n",
       "    </tr>\n",
       "    <tr>\n",
       "      <th>1</th>\n",
       "      <td>1652097</td>\n",
       "      <td>3brandnewlow</td>\n",
       "      <td>32010-09-01 07:01:24</td>\n",
       "      <td>3Very fair.  Duly noted.</td>\n",
       "    </tr>\n",
       "    <tr>\n",
       "      <th>2</th>\n",
       "      <td>2980343</td>\n",
       "      <td>3darrenkopp</td>\n",
       "      <td>32011-09-10 00:26:41</td>\n",
       "      <td>3We're pretty good at it now. A=Republicans, B...</td>\n",
       "    </tr>\n",
       "    <tr>\n",
       "      <th>3</th>\n",
       "      <td>5573111</td>\n",
       "      <td>3SG-</td>\n",
       "      <td>32013-04-18 21:10:58</td>\n",
       "      <td>3OVH also has a datacenter in Montreal.</td>\n",
       "    </tr>\n",
       "    <tr>\n",
       "      <th>4</th>\n",
       "      <td>17088135</td>\n",
       "      <td>3namibj</td>\n",
       "      <td>32018-05-17 02:06:42</td>\n",
       "      <td>3Blockchain? No, seriously, just a block-orien...</td>\n",
       "    </tr>\n",
       "  </tbody>\n",
       "</table>\n",
       "</div>"
      ],
      "text/plain": [
       "         id      username       posted_datetime  \\\n",
       "0  14414747    3wichcraft  32017-05-25 01:38:41   \n",
       "1   1652097  3brandnewlow  32010-09-01 07:01:24   \n",
       "2   2980343   3darrenkopp  32011-09-10 00:26:41   \n",
       "3   5573111          3SG-  32013-04-18 21:10:58   \n",
       "4  17088135       3namibj  32018-05-17 02:06:42   \n",
       "\n",
       "                                            comments  \n",
       "0  3i am curious where you get the quote from for...  \n",
       "1                           3Very fair.  Duly noted.  \n",
       "2  3We're pretty good at it now. A=Republicans, B...  \n",
       "3            3OVH also has a datacenter in Montreal.  \n",
       "4  3Blockchain? No, seriously, just a block-orien...  "
      ]
     },
     "execution_count": 46,
     "metadata": {},
     "output_type": "execute_result"
    }
   ],
   "source": [
    "df.head()"
   ]
  },
  {
   "cell_type": "code",
   "execution_count": 47,
   "metadata": {},
   "outputs": [],
   "source": [
    "# Would like to verify all cells begin with a 3 before editing directly\n",
    "assert df.loc[:, 'username'][0][0] == '3'"
   ]
  },
  {
   "cell_type": "markdown",
   "metadata": {},
   "source": [
    "#### Drop the '3' left over from the ESC delimiter in front of every cell from the columns: 'username', 'posted_datetime', and 'comments'.\n",
    " - For every cell in the column, replace with the cell's second character to the end of the cell"
   ]
  },
  {
   "cell_type": "code",
   "execution_count": 48,
   "metadata": {},
   "outputs": [],
   "source": [
    "df.loc[:, 'username'] = df.loc[:, 'username'].str[1:] "
   ]
  },
  {
   "cell_type": "code",
   "execution_count": 49,
   "metadata": {},
   "outputs": [],
   "source": [
    "df.loc[:, 'posted_datetime'] = df.loc[:, 'posted_datetime'].str[1:] "
   ]
  },
  {
   "cell_type": "code",
   "execution_count": 50,
   "metadata": {},
   "outputs": [],
   "source": [
    "df.loc[:, 'comments'] = df.loc[:, 'comments'].str[1:] "
   ]
  },
  {
   "cell_type": "markdown",
   "metadata": {},
   "source": [
    "#### Check for nulls"
   ]
  },
  {
   "cell_type": "code",
   "execution_count": 51,
   "metadata": {},
   "outputs": [
    {
     "data": {
      "text/plain": [
       "id                 0\n",
       "username           0\n",
       "posted_datetime    0\n",
       "comments           0\n",
       "dtype: int64"
      ]
     },
     "execution_count": 51,
     "metadata": {},
     "output_type": "execute_result"
    }
   ],
   "source": [
    "df.isnull().sum()"
   ]
  },
  {
   "cell_type": "markdown",
   "metadata": {},
   "source": [
    "#### Have another look, should be clean"
   ]
  },
  {
   "cell_type": "code",
   "execution_count": 52,
   "metadata": {},
   "outputs": [
    {
     "data": {
      "text/html": [
       "<div>\n",
       "<style scoped>\n",
       "    .dataframe tbody tr th:only-of-type {\n",
       "        vertical-align: middle;\n",
       "    }\n",
       "\n",
       "    .dataframe tbody tr th {\n",
       "        vertical-align: top;\n",
       "    }\n",
       "\n",
       "    .dataframe thead th {\n",
       "        text-align: right;\n",
       "    }\n",
       "</style>\n",
       "<table border=\"1\" class=\"dataframe\">\n",
       "  <thead>\n",
       "    <tr style=\"text-align: right;\">\n",
       "      <th></th>\n",
       "      <th>id</th>\n",
       "      <th>username</th>\n",
       "      <th>posted_datetime</th>\n",
       "      <th>comments</th>\n",
       "    </tr>\n",
       "  </thead>\n",
       "  <tbody>\n",
       "    <tr>\n",
       "      <th>0</th>\n",
       "      <td>14414747</td>\n",
       "      <td>wichcraft</td>\n",
       "      <td>2017-05-25 01:38:41</td>\n",
       "      <td>i am curious where you get the quote from for ...</td>\n",
       "    </tr>\n",
       "    <tr>\n",
       "      <th>1</th>\n",
       "      <td>1652097</td>\n",
       "      <td>brandnewlow</td>\n",
       "      <td>2010-09-01 07:01:24</td>\n",
       "      <td>Very fair.  Duly noted.</td>\n",
       "    </tr>\n",
       "    <tr>\n",
       "      <th>2</th>\n",
       "      <td>2980343</td>\n",
       "      <td>darrenkopp</td>\n",
       "      <td>2011-09-10 00:26:41</td>\n",
       "      <td>We're pretty good at it now. A=Republicans, B=...</td>\n",
       "    </tr>\n",
       "    <tr>\n",
       "      <th>3</th>\n",
       "      <td>5573111</td>\n",
       "      <td>SG-</td>\n",
       "      <td>2013-04-18 21:10:58</td>\n",
       "      <td>OVH also has a datacenter in Montreal.</td>\n",
       "    </tr>\n",
       "    <tr>\n",
       "      <th>4</th>\n",
       "      <td>17088135</td>\n",
       "      <td>namibj</td>\n",
       "      <td>2018-05-17 02:06:42</td>\n",
       "      <td>Blockchain? No, seriously, just a block-orient...</td>\n",
       "    </tr>\n",
       "    <tr>\n",
       "      <th>5</th>\n",
       "      <td>3213234</td>\n",
       "      <td>fleitz</td>\n",
       "      <td>2011-11-08 22:46:21</td>\n",
       "      <td>And what about the short term holders of bank ...</td>\n",
       "    </tr>\n",
       "    <tr>\n",
       "      <th>6</th>\n",
       "      <td>16127705</td>\n",
       "      <td>AlexCoventry</td>\n",
       "      <td>2018-01-11 20:49:57</td>\n",
       "      <td>Fraud is not the only issue. OP needs to asses...</td>\n",
       "    </tr>\n",
       "    <tr>\n",
       "      <th>7</th>\n",
       "      <td>12966210</td>\n",
       "      <td>yitchelle</td>\n",
       "      <td>2016-11-16 11:53:36</td>\n",
       "      <td>I got toilet, so I drew a hole in the ground. ...</td>\n",
       "    </tr>\n",
       "    <tr>\n",
       "      <th>8</th>\n",
       "      <td>9341951</td>\n",
       "      <td>chatmasta</td>\n",
       "      <td>2015-04-08 16:33:45</td>\n",
       "      <td>This sounds fascinating. Do you have a link to...</td>\n",
       "    </tr>\n",
       "    <tr>\n",
       "      <th>9</th>\n",
       "      <td>12771255</td>\n",
       "      <td>BlytheSchuma</td>\n",
       "      <td>2016-10-23 00:30:19</td>\n",
       "      <td>Wow, you somehow made this about you again.</td>\n",
       "    </tr>\n",
       "  </tbody>\n",
       "</table>\n",
       "</div>"
      ],
      "text/plain": [
       "         id      username      posted_datetime  \\\n",
       "0  14414747     wichcraft  2017-05-25 01:38:41   \n",
       "1   1652097   brandnewlow  2010-09-01 07:01:24   \n",
       "2   2980343    darrenkopp  2011-09-10 00:26:41   \n",
       "3   5573111           SG-  2013-04-18 21:10:58   \n",
       "4  17088135        namibj  2018-05-17 02:06:42   \n",
       "5   3213234        fleitz  2011-11-08 22:46:21   \n",
       "6  16127705  AlexCoventry  2018-01-11 20:49:57   \n",
       "7  12966210     yitchelle  2016-11-16 11:53:36   \n",
       "8   9341951     chatmasta  2015-04-08 16:33:45   \n",
       "9  12771255  BlytheSchuma  2016-10-23 00:30:19   \n",
       "\n",
       "                                            comments  \n",
       "0  i am curious where you get the quote from for ...  \n",
       "1                            Very fair.  Duly noted.  \n",
       "2  We're pretty good at it now. A=Republicans, B=...  \n",
       "3             OVH also has a datacenter in Montreal.  \n",
       "4  Blockchain? No, seriously, just a block-orient...  \n",
       "5  And what about the short term holders of bank ...  \n",
       "6  Fraud is not the only issue. OP needs to asses...  \n",
       "7  I got toilet, so I drew a hole in the ground. ...  \n",
       "8  This sounds fascinating. Do you have a link to...  \n",
       "9        Wow, you somehow made this about you again.  "
      ]
     },
     "execution_count": 52,
     "metadata": {},
     "output_type": "execute_result"
    }
   ],
   "source": [
    "df.head(10)"
   ]
  },
  {
   "cell_type": "markdown",
   "metadata": {},
   "source": [
    "#### Let's replace the index Pandas created by default with the posted_datetime"
   ]
  },
  {
   "cell_type": "code",
   "execution_count": null,
   "metadata": {},
   "outputs": [],
   "source": []
  },
  {
   "cell_type": "markdown",
   "metadata": {},
   "source": [
    "#### Save as clean TAB delimited file named 'tab_delim_file.csv'"
   ]
  },
  {
   "cell_type": "code",
   "execution_count": 53,
   "metadata": {},
   "outputs": [],
   "source": [
    "df.to_csv('tab_delim_clean.csv')"
   ]
  },
  {
   "cell_type": "markdown",
   "metadata": {},
   "source": [
    "#### Save as an actual comma delimited file named 'comma_delim_file.csv'"
   ]
  },
  {
   "cell_type": "code",
   "execution_count": null,
   "metadata": {},
   "outputs": [],
   "source": [
    "df.to_csv('comma_delim_clean.csv', sep=',')"
   ]
  },
  {
   "cell_type": "code",
   "execution_count": 55,
   "metadata": {},
   "outputs": [],
   "source": [
    "df.head(500).to_csv('comma_delim_trunc.csv', sep=',')"
   ]
  },
  {
   "cell_type": "markdown",
   "metadata": {},
   "source": [
    "#### Load 'comma_delim_clean.csv' with default seperator ','"
   ]
  },
  {
   "cell_type": "code",
   "execution_count": 4,
   "metadata": {},
   "outputs": [],
   "source": [
    "df2 = pd.read_csv('comma_delim_clean.csv', index_col='posted_datetime')"
   ]
  },
  {
   "cell_type": "code",
   "execution_count": 5,
   "metadata": {},
   "outputs": [
    {
     "data": {
      "text/html": [
       "<div>\n",
       "<style scoped>\n",
       "    .dataframe tbody tr th:only-of-type {\n",
       "        vertical-align: middle;\n",
       "    }\n",
       "\n",
       "    .dataframe tbody tr th {\n",
       "        vertical-align: top;\n",
       "    }\n",
       "\n",
       "    .dataframe thead th {\n",
       "        text-align: right;\n",
       "    }\n",
       "</style>\n",
       "<table border=\"1\" class=\"dataframe\">\n",
       "  <thead>\n",
       "    <tr style=\"text-align: right;\">\n",
       "      <th></th>\n",
       "      <th>Unnamed: 0</th>\n",
       "      <th>id</th>\n",
       "      <th>username</th>\n",
       "      <th>comments</th>\n",
       "    </tr>\n",
       "    <tr>\n",
       "      <th>posted_datetime</th>\n",
       "      <th></th>\n",
       "      <th></th>\n",
       "      <th></th>\n",
       "      <th></th>\n",
       "    </tr>\n",
       "  </thead>\n",
       "  <tbody>\n",
       "    <tr>\n",
       "      <th>2017-05-25 01:38:41</th>\n",
       "      <td>0</td>\n",
       "      <td>14414747</td>\n",
       "      <td>wichcraft</td>\n",
       "      <td>i am curious where you get the quote from for ...</td>\n",
       "    </tr>\n",
       "    <tr>\n",
       "      <th>2010-09-01 07:01:24</th>\n",
       "      <td>1</td>\n",
       "      <td>1652097</td>\n",
       "      <td>brandnewlow</td>\n",
       "      <td>Very fair.  Duly noted.</td>\n",
       "    </tr>\n",
       "    <tr>\n",
       "      <th>2011-09-10 00:26:41</th>\n",
       "      <td>2</td>\n",
       "      <td>2980343</td>\n",
       "      <td>darrenkopp</td>\n",
       "      <td>We're pretty good at it now. A=Republicans, B=...</td>\n",
       "    </tr>\n",
       "    <tr>\n",
       "      <th>2013-04-18 21:10:58</th>\n",
       "      <td>3</td>\n",
       "      <td>5573111</td>\n",
       "      <td>SG-</td>\n",
       "      <td>OVH also has a datacenter in Montreal.</td>\n",
       "    </tr>\n",
       "    <tr>\n",
       "      <th>2018-05-17 02:06:42</th>\n",
       "      <td>4</td>\n",
       "      <td>17088135</td>\n",
       "      <td>namibj</td>\n",
       "      <td>Blockchain? No, seriously, just a block-orient...</td>\n",
       "    </tr>\n",
       "  </tbody>\n",
       "</table>\n",
       "</div>"
      ],
      "text/plain": [
       "                     Unnamed: 0        id     username  \\\n",
       "posted_datetime                                          \n",
       "2017-05-25 01:38:41           0  14414747    wichcraft   \n",
       "2010-09-01 07:01:24           1   1652097  brandnewlow   \n",
       "2011-09-10 00:26:41           2   2980343   darrenkopp   \n",
       "2013-04-18 21:10:58           3   5573111          SG-   \n",
       "2018-05-17 02:06:42           4  17088135       namibj   \n",
       "\n",
       "                                                              comments  \n",
       "posted_datetime                                                         \n",
       "2017-05-25 01:38:41  i am curious where you get the quote from for ...  \n",
       "2010-09-01 07:01:24                            Very fair.  Duly noted.  \n",
       "2011-09-10 00:26:41  We're pretty good at it now. A=Republicans, B=...  \n",
       "2013-04-18 21:10:58             OVH also has a datacenter in Montreal.  \n",
       "2018-05-17 02:06:42  Blockchain? No, seriously, just a block-orient...  "
      ]
     },
     "execution_count": 5,
     "metadata": {},
     "output_type": "execute_result"
    }
   ],
   "source": [
    "df2.head()"
   ]
  },
  {
   "cell_type": "markdown",
   "metadata": {},
   "source": [
    "#### The index column created automatically remains as 'Unnamed: 0', I will drop it here but should to go back and fix its initial creation."
   ]
  },
  {
   "cell_type": "code",
   "execution_count": 6,
   "metadata": {},
   "outputs": [],
   "source": [
    "df2.drop('Unnamed: 0', axis=1, inplace=True)"
   ]
  },
  {
   "cell_type": "code",
   "execution_count": 7,
   "metadata": {},
   "outputs": [],
   "source": [
    "df2 = df2.sort_index(ascending=True)"
   ]
  },
  {
   "cell_type": "code",
   "execution_count": 8,
   "metadata": {},
   "outputs": [
    {
     "data": {
      "text/html": [
       "<div>\n",
       "<style scoped>\n",
       "    .dataframe tbody tr th:only-of-type {\n",
       "        vertical-align: middle;\n",
       "    }\n",
       "\n",
       "    .dataframe tbody tr th {\n",
       "        vertical-align: top;\n",
       "    }\n",
       "\n",
       "    .dataframe thead th {\n",
       "        text-align: right;\n",
       "    }\n",
       "</style>\n",
       "<table border=\"1\" class=\"dataframe\">\n",
       "  <thead>\n",
       "    <tr style=\"text-align: right;\">\n",
       "      <th></th>\n",
       "      <th>id</th>\n",
       "      <th>username</th>\n",
       "      <th>comments</th>\n",
       "    </tr>\n",
       "    <tr>\n",
       "      <th>posted_datetime</th>\n",
       "      <th></th>\n",
       "      <th></th>\n",
       "      <th></th>\n",
       "    </tr>\n",
       "  </thead>\n",
       "  <tbody>\n",
       "    <tr>\n",
       "      <th>2006-10-09 19:52:45</th>\n",
       "      <td>17</td>\n",
       "      <td>pg</td>\n",
       "      <td>Is there anywhere to eat on Sandhill Road?</td>\n",
       "    </tr>\n",
       "    <tr>\n",
       "      <th>2006-10-10 02:18:22</th>\n",
       "      <td>22</td>\n",
       "      <td>pg</td>\n",
       "      <td>It's kind of funny that Sevin Rosen is giving ...</td>\n",
       "    </tr>\n",
       "    <tr>\n",
       "      <th>2006-10-10 15:50:40</th>\n",
       "      <td>33</td>\n",
       "      <td>spez</td>\n",
       "      <td>winnar winnar chicken dinnar!</td>\n",
       "    </tr>\n",
       "    <tr>\n",
       "      <th>2006-10-10 15:53:53</th>\n",
       "      <td>34</td>\n",
       "      <td>pg</td>\n",
       "      <td>what do you mean?  this story's still not #1</td>\n",
       "    </tr>\n",
       "    <tr>\n",
       "      <th>2006-10-10 22:46:08</th>\n",
       "      <td>41</td>\n",
       "      <td>starklysnarky</td>\n",
       "      <td>it's interesting how a simple set of features ...</td>\n",
       "    </tr>\n",
       "    <tr>\n",
       "      <th>2007-02-19 04:49:59</th>\n",
       "      <td>79</td>\n",
       "      <td>matt</td>\n",
       "      <td>Launch party circuit, eh?</td>\n",
       "    </tr>\n",
       "    <tr>\n",
       "      <th>2007-02-19 04:51:22</th>\n",
       "      <td>80</td>\n",
       "      <td>pg</td>\n",
       "      <td>yet another advantage of being in the Bay Area</td>\n",
       "    </tr>\n",
       "    <tr>\n",
       "      <th>2007-02-20 06:19:53</th>\n",
       "      <td>141</td>\n",
       "      <td>timg</td>\n",
       "      <td>news.ycombinator should let us redesign arc.</td>\n",
       "    </tr>\n",
       "    <tr>\n",
       "      <th>2007-02-20 06:26:31</th>\n",
       "      <td>143</td>\n",
       "      <td>Dauntless</td>\n",
       "      <td>3. You can't delete your comment if you posted...</td>\n",
       "    </tr>\n",
       "    <tr>\n",
       "      <th>2007-02-20 06:26:37</th>\n",
       "      <td>144</td>\n",
       "      <td>Dauntless</td>\n",
       "      <td>3. You can't delete your comment if you posted...</td>\n",
       "    </tr>\n",
       "    <tr>\n",
       "      <th>2007-02-20 06:26:45</th>\n",
       "      <td>145</td>\n",
       "      <td>Dauntless</td>\n",
       "      <td>3. You can't delete your comment if you posted...</td>\n",
       "    </tr>\n",
       "    <tr>\n",
       "      <th>2007-02-20 07:56:06</th>\n",
       "      <td>150</td>\n",
       "      <td>cuteoverload</td>\n",
       "      <td>http://morecute.com they are giving Hotornot r...</td>\n",
       "    </tr>\n",
       "    <tr>\n",
       "      <th>2007-02-20 07:58:40</th>\n",
       "      <td>152</td>\n",
       "      <td>cuteoverload</td>\n",
       "      <td>Fedora is far better than ubuntu</td>\n",
       "    </tr>\n",
       "    <tr>\n",
       "      <th>2007-02-20 08:00:38</th>\n",
       "      <td>154</td>\n",
       "      <td>rockstar</td>\n",
       "      <td>Alyson Rosalina DiMeco Naked Brothers Band on ...</td>\n",
       "    </tr>\n",
       "    <tr>\n",
       "      <th>2007-02-20 12:21:04</th>\n",
       "      <td>175</td>\n",
       "      <td>staunch</td>\n",
       "      <td>Apparently not even if you post it three times!</td>\n",
       "    </tr>\n",
       "    <tr>\n",
       "      <th>2007-02-20 17:16:52</th>\n",
       "      <td>182</td>\n",
       "      <td>avibryant</td>\n",
       "      <td>Thanks!  There's another neat screencast here ...</td>\n",
       "    </tr>\n",
       "    <tr>\n",
       "      <th>2007-02-20 18:58:35</th>\n",
       "      <td>187</td>\n",
       "      <td>akkartik</td>\n",
       "      <td>All valid, but notice that Joel makes no comme...</td>\n",
       "    </tr>\n",
       "    <tr>\n",
       "      <th>2007-02-20 20:21:43</th>\n",
       "      <td>188</td>\n",
       "      <td>pg</td>\n",
       "      <td>Thanks for the suggestion.  If anyone else has...</td>\n",
       "    </tr>\n",
       "    <tr>\n",
       "      <th>2007-02-20 22:33:51</th>\n",
       "      <td>194</td>\n",
       "      <td>jmzachary</td>\n",
       "      <td>Thanks for the rationale. I'm most interested ...</td>\n",
       "    </tr>\n",
       "    <tr>\n",
       "      <th>2007-02-20 22:36:52</th>\n",
       "      <td>195</td>\n",
       "      <td>jdroid</td>\n",
       "      <td>You've filled a hole reddit was starting to di...</td>\n",
       "    </tr>\n",
       "    <tr>\n",
       "      <th>2007-02-20 22:37:13</th>\n",
       "      <td>196</td>\n",
       "      <td>jmzachary</td>\n",
       "      <td>I don't know if it's the best, but it's the on...</td>\n",
       "    </tr>\n",
       "    <tr>\n",
       "      <th>2007-02-20 22:42:40</th>\n",
       "      <td>198</td>\n",
       "      <td>Elfan</td>\n",
       "      <td>Companies would be interested in saving on coo...</td>\n",
       "    </tr>\n",
       "    <tr>\n",
       "      <th>2007-02-20 22:54:23</th>\n",
       "      <td>200</td>\n",
       "      <td>acgourley</td>\n",
       "      <td>If anyone hasn't picked up a copy of this book...</td>\n",
       "    </tr>\n",
       "    <tr>\n",
       "      <th>2007-02-20 23:50:19</th>\n",
       "      <td>211</td>\n",
       "      <td>chris</td>\n",
       "      <td>Great site!  RSS feed would also be useful for...</td>\n",
       "    </tr>\n",
       "    <tr>\n",
       "      <th>2007-02-21 01:36:26</th>\n",
       "      <td>231</td>\n",
       "      <td>timg</td>\n",
       "      <td>We admire your ambition. You'll do well.</td>\n",
       "    </tr>\n",
       "  </tbody>\n",
       "</table>\n",
       "</div>"
      ],
      "text/plain": [
       "                      id       username  \\\n",
       "posted_datetime                           \n",
       "2006-10-09 19:52:45   17             pg   \n",
       "2006-10-10 02:18:22   22             pg   \n",
       "2006-10-10 15:50:40   33           spez   \n",
       "2006-10-10 15:53:53   34             pg   \n",
       "2006-10-10 22:46:08   41  starklysnarky   \n",
       "2007-02-19 04:49:59   79           matt   \n",
       "2007-02-19 04:51:22   80             pg   \n",
       "2007-02-20 06:19:53  141           timg   \n",
       "2007-02-20 06:26:31  143      Dauntless   \n",
       "2007-02-20 06:26:37  144      Dauntless   \n",
       "2007-02-20 06:26:45  145      Dauntless   \n",
       "2007-02-20 07:56:06  150   cuteoverload   \n",
       "2007-02-20 07:58:40  152   cuteoverload   \n",
       "2007-02-20 08:00:38  154       rockstar   \n",
       "2007-02-20 12:21:04  175        staunch   \n",
       "2007-02-20 17:16:52  182      avibryant   \n",
       "2007-02-20 18:58:35  187       akkartik   \n",
       "2007-02-20 20:21:43  188             pg   \n",
       "2007-02-20 22:33:51  194      jmzachary   \n",
       "2007-02-20 22:36:52  195         jdroid   \n",
       "2007-02-20 22:37:13  196      jmzachary   \n",
       "2007-02-20 22:42:40  198          Elfan   \n",
       "2007-02-20 22:54:23  200      acgourley   \n",
       "2007-02-20 23:50:19  211          chris   \n",
       "2007-02-21 01:36:26  231           timg   \n",
       "\n",
       "                                                              comments  \n",
       "posted_datetime                                                         \n",
       "2006-10-09 19:52:45         Is there anywhere to eat on Sandhill Road?  \n",
       "2006-10-10 02:18:22  It's kind of funny that Sevin Rosen is giving ...  \n",
       "2006-10-10 15:50:40                      winnar winnar chicken dinnar!  \n",
       "2006-10-10 15:53:53       what do you mean?  this story's still not #1  \n",
       "2006-10-10 22:46:08  it's interesting how a simple set of features ...  \n",
       "2007-02-19 04:49:59                          Launch party circuit, eh?  \n",
       "2007-02-19 04:51:22     yet another advantage of being in the Bay Area  \n",
       "2007-02-20 06:19:53       news.ycombinator should let us redesign arc.  \n",
       "2007-02-20 06:26:31  3. You can't delete your comment if you posted...  \n",
       "2007-02-20 06:26:37  3. You can't delete your comment if you posted...  \n",
       "2007-02-20 06:26:45  3. You can't delete your comment if you posted...  \n",
       "2007-02-20 07:56:06  http://morecute.com they are giving Hotornot r...  \n",
       "2007-02-20 07:58:40                   Fedora is far better than ubuntu  \n",
       "2007-02-20 08:00:38  Alyson Rosalina DiMeco Naked Brothers Band on ...  \n",
       "2007-02-20 12:21:04    Apparently not even if you post it three times!  \n",
       "2007-02-20 17:16:52  Thanks!  There's another neat screencast here ...  \n",
       "2007-02-20 18:58:35  All valid, but notice that Joel makes no comme...  \n",
       "2007-02-20 20:21:43  Thanks for the suggestion.  If anyone else has...  \n",
       "2007-02-20 22:33:51  Thanks for the rationale. I'm most interested ...  \n",
       "2007-02-20 22:36:52  You've filled a hole reddit was starting to di...  \n",
       "2007-02-20 22:37:13  I don't know if it's the best, but it's the on...  \n",
       "2007-02-20 22:42:40  Companies would be interested in saving on coo...  \n",
       "2007-02-20 22:54:23  If anyone hasn't picked up a copy of this book...  \n",
       "2007-02-20 23:50:19  Great site!  RSS feed would also be useful for...  \n",
       "2007-02-21 01:36:26           We admire your ambition. You'll do well.  "
      ]
     },
     "execution_count": 8,
     "metadata": {},
     "output_type": "execute_result"
    }
   ],
   "source": [
    "df2.head(25)"
   ]
  },
  {
   "cell_type": "code",
   "execution_count": 37,
   "metadata": {},
   "outputs": [
    {
     "data": {
      "text/plain": [
       "Index(['2006-10-09 19:52:45', '2006-10-10 02:18:22', '2006-10-10 15:50:40',\n",
       "       '2006-10-10 15:53:53', '2006-10-10 22:46:08', '2007-02-19 04:49:59',\n",
       "       '2007-02-19 04:51:22', '2007-02-20 06:19:53', '2007-02-20 06:26:31',\n",
       "       '2007-02-20 06:26:37',\n",
       "       ...\n",
       "       '2018-07-30 08:59:32', '2018-07-30 09:01:21', '2018-07-30 09:02:16',\n",
       "       '2018-07-30 09:03:49', '2018-07-30 09:05:39', '2018-07-30 09:06:47',\n",
       "       '2018-07-30 09:10:26', '2018-07-30 09:11:43', '2018-07-30 09:20:28',\n",
       "       '2018-07-30 09:22:17'],\n",
       "      dtype='object', name='posted_datetime', length=2000000)"
      ]
     },
     "execution_count": 37,
     "metadata": {},
     "output_type": "execute_result"
    }
   ],
   "source": [
    "df2.index"
   ]
  },
  {
   "cell_type": "code",
   "execution_count": 29,
   "metadata": {},
   "outputs": [],
   "source": [
    "df2.index =  pd.to_datetime(df2.index)"
   ]
  },
  {
   "cell_type": "code",
   "execution_count": 39,
   "metadata": {},
   "outputs": [
    {
     "data": {
      "text/plain": [
       "DatetimeIndex(['2006-10-09 19:52:45', '2006-10-10 02:18:22',\n",
       "               '2006-10-10 15:50:40', '2006-10-10 15:53:53',\n",
       "               '2006-10-10 22:46:08', '2007-02-19 04:49:59',\n",
       "               '2007-02-19 04:51:22', '2007-02-20 06:19:53',\n",
       "               '2007-02-20 06:26:31', '2007-02-20 06:26:37',\n",
       "               ...\n",
       "               '2018-07-30 08:59:32', '2018-07-30 09:01:21',\n",
       "               '2018-07-30 09:02:16', '2018-07-30 09:03:49',\n",
       "               '2018-07-30 09:05:39', '2018-07-30 09:06:47',\n",
       "               '2018-07-30 09:10:26', '2018-07-30 09:11:43',\n",
       "               '2018-07-30 09:20:28', '2018-07-30 09:22:17'],\n",
       "              dtype='datetime64[ns]', name='posted_datetime', length=2000000, freq=None)"
      ]
     },
     "execution_count": 39,
     "metadata": {},
     "output_type": "execute_result"
    }
   ],
   "source": [
    "df2.index"
   ]
  },
  {
   "cell_type": "code",
   "execution_count": 54,
   "metadata": {},
   "outputs": [
    {
     "name": "stdout",
     "output_type": "stream",
     "text": [
      "987 ms ± 52.6 ms per loop (mean ± std. dev. of 7 runs, 1 loop each)\n"
     ]
    }
   ],
   "source": [
    "%timeit df2.loc[:, 'comments'].str.len().max()"
   ]
  },
  {
   "cell_type": "code",
   "execution_count": 55,
   "metadata": {},
   "outputs": [
    {
     "name": "stdout",
     "output_type": "stream",
     "text": [
      "960 ms ± 8.77 ms per loop (mean ± std. dev. of 7 runs, 1 loop each)\n"
     ]
    }
   ],
   "source": [
    "%timeit df2.loc[:, 'comments'].map(len).max()"
   ]
  },
  {
   "cell_type": "code",
   "execution_count": null,
   "metadata": {},
   "outputs": [],
   "source": []
  },
  {
   "cell_type": "code",
   "execution_count": null,
   "metadata": {},
   "outputs": [],
   "source": []
  },
  {
   "cell_type": "code",
   "execution_count": null,
   "metadata": {},
   "outputs": [],
   "source": []
  },
  {
   "cell_type": "code",
   "execution_count": 104,
   "metadata": {},
   "outputs": [
    {
     "ename": "ValueError",
     "evalue": "Cannot index with multidimensional key",
     "output_type": "error",
     "traceback": [
      "\u001b[0;31m---------------------------------------------------------------------------\u001b[0m",
      "\u001b[0;31mValueError\u001b[0m                                Traceback (most recent call last)",
      "\u001b[0;32m<ipython-input-104-b270fdfe9144>\u001b[0m in \u001b[0;36m<module>\u001b[0;34m()\u001b[0m\n\u001b[0;32m----> 1\u001b[0;31m \u001b[0mdf2\u001b[0m\u001b[0;34m.\u001b[0m\u001b[0mloc\u001b[0m\u001b[0;34m[\u001b[0m\u001b[0mdf2\u001b[0m\u001b[0;34m.\u001b[0m\u001b[0mgroupby\u001b[0m\u001b[0;34m(\u001b[0m\u001b[0;34m'username'\u001b[0m\u001b[0;34m)\u001b[0m\u001b[0;34m]\u001b[0m\u001b[0;34m\u001b[0m\u001b[0m\n\u001b[0m",
      "\u001b[0;32m~/anaconda/lib/python3.6/site-packages/pandas/core/indexing.py\u001b[0m in \u001b[0;36m__getitem__\u001b[0;34m(self, key)\u001b[0m\n\u001b[1;32m   1476\u001b[0m \u001b[0;34m\u001b[0m\u001b[0m\n\u001b[1;32m   1477\u001b[0m             \u001b[0mmaybe_callable\u001b[0m \u001b[0;34m=\u001b[0m \u001b[0mcom\u001b[0m\u001b[0;34m.\u001b[0m\u001b[0m_apply_if_callable\u001b[0m\u001b[0;34m(\u001b[0m\u001b[0mkey\u001b[0m\u001b[0;34m,\u001b[0m \u001b[0mself\u001b[0m\u001b[0;34m.\u001b[0m\u001b[0mobj\u001b[0m\u001b[0;34m)\u001b[0m\u001b[0;34m\u001b[0m\u001b[0m\n\u001b[0;32m-> 1478\u001b[0;31m             \u001b[0;32mreturn\u001b[0m \u001b[0mself\u001b[0m\u001b[0;34m.\u001b[0m\u001b[0m_getitem_axis\u001b[0m\u001b[0;34m(\u001b[0m\u001b[0mmaybe_callable\u001b[0m\u001b[0;34m,\u001b[0m \u001b[0maxis\u001b[0m\u001b[0;34m=\u001b[0m\u001b[0maxis\u001b[0m\u001b[0;34m)\u001b[0m\u001b[0;34m\u001b[0m\u001b[0m\n\u001b[0m\u001b[1;32m   1479\u001b[0m \u001b[0;34m\u001b[0m\u001b[0m\n\u001b[1;32m   1480\u001b[0m     \u001b[0;32mdef\u001b[0m \u001b[0m_is_scalar_access\u001b[0m\u001b[0;34m(\u001b[0m\u001b[0mself\u001b[0m\u001b[0;34m,\u001b[0m \u001b[0mkey\u001b[0m\u001b[0;34m)\u001b[0m\u001b[0;34m:\u001b[0m\u001b[0;34m\u001b[0m\u001b[0m\n",
      "\u001b[0;32m~/anaconda/lib/python3.6/site-packages/pandas/core/indexing.py\u001b[0m in \u001b[0;36m_getitem_axis\u001b[0;34m(self, key, axis)\u001b[0m\n\u001b[1;32m   1897\u001b[0m \u001b[0;34m\u001b[0m\u001b[0m\n\u001b[1;32m   1898\u001b[0m                 \u001b[0;32mif\u001b[0m \u001b[0mhasattr\u001b[0m\u001b[0;34m(\u001b[0m\u001b[0mkey\u001b[0m\u001b[0;34m,\u001b[0m \u001b[0;34m'ndim'\u001b[0m\u001b[0;34m)\u001b[0m \u001b[0;32mand\u001b[0m \u001b[0mkey\u001b[0m\u001b[0;34m.\u001b[0m\u001b[0mndim\u001b[0m \u001b[0;34m>\u001b[0m \u001b[0;36m1\u001b[0m\u001b[0;34m:\u001b[0m\u001b[0;34m\u001b[0m\u001b[0m\n\u001b[0;32m-> 1899\u001b[0;31m                     \u001b[0;32mraise\u001b[0m \u001b[0mValueError\u001b[0m\u001b[0;34m(\u001b[0m\u001b[0;34m'Cannot index with multidimensional key'\u001b[0m\u001b[0;34m)\u001b[0m\u001b[0;34m\u001b[0m\u001b[0m\n\u001b[0m\u001b[1;32m   1900\u001b[0m \u001b[0;34m\u001b[0m\u001b[0m\n\u001b[1;32m   1901\u001b[0m                 \u001b[0;32mreturn\u001b[0m \u001b[0mself\u001b[0m\u001b[0;34m.\u001b[0m\u001b[0m_getitem_iterable\u001b[0m\u001b[0;34m(\u001b[0m\u001b[0mkey\u001b[0m\u001b[0;34m,\u001b[0m \u001b[0maxis\u001b[0m\u001b[0;34m=\u001b[0m\u001b[0maxis\u001b[0m\u001b[0;34m)\u001b[0m\u001b[0;34m\u001b[0m\u001b[0m\n",
      "\u001b[0;31mValueError\u001b[0m: Cannot index with multidimensional key"
     ]
    }
   ],
   "source": [
    "df2.groupby('username')"
   ]
  },
  {
   "cell_type": "markdown",
   "metadata": {},
   "source": [
    "---\n",
    "## SQL\n",
    "---"
   ]
  },
  {
   "cell_type": "markdown",
   "metadata": {},
   "source": [
    "#### List the top-10 most prolific posters"
   ]
  },
  {
   "cell_type": "code",
   "execution_count": 83,
   "metadata": {},
   "outputs": [],
   "source": [
    "import csv_to_sqlite as ts"
   ]
  },
  {
   "cell_type": "code",
   "execution_count": 56,
   "metadata": {},
   "outputs": [],
   "source": [
    "import sqlite3"
   ]
  },
  {
   "cell_type": "code",
   "execution_count": 57,
   "metadata": {},
   "outputs": [
    {
     "name": "stdout",
     "output_type": "stream",
     "text": [
      "Data_test_2018_08_01.ipynb  data_test_2m.esc copy\r\n",
      "comma_delim_clean.csv       output.csv\r\n",
      "comma_delim_trunc.csv       tab_delim_clean.csv\r\n",
      "data_test_2m.esc            tab_delim_file.csv\r\n"
     ]
    }
   ],
   "source": [
    "ls"
   ]
  },
  {
   "cell_type": "code",
   "execution_count": 92,
   "metadata": {},
   "outputs": [
    {
     "ename": "SyntaxError",
     "evalue": "invalid syntax (<ipython-input-92-3eae98b82433>, line 1)",
     "output_type": "error",
     "traceback": [
      "\u001b[0;36m  File \u001b[0;32m\"<ipython-input-92-3eae98b82433>\"\u001b[0;36m, line \u001b[0;32m1\u001b[0m\n\u001b[0;31m    ts -f 'comma_delim_trunc.csv'\u001b[0m\n\u001b[0m                                ^\u001b[0m\n\u001b[0;31mSyntaxError\u001b[0m\u001b[0;31m:\u001b[0m invalid syntax\n"
     ]
    }
   ],
   "source": [
    "ts -f 'comma_delim_trunc.csv'"
   ]
  },
  {
   "cell_type": "code",
   "execution_count": 79,
   "metadata": {},
   "outputs": [
    {
     "ename": "ProgrammingError",
     "evalue": "Incorrect number of bindings supplied. The current statement uses 4, and there are 5 supplied.",
     "output_type": "error",
     "traceback": [
      "\u001b[0;31m---------------------------------------------------------------------------\u001b[0m",
      "\u001b[0;31mProgrammingError\u001b[0m                          Traceback (most recent call last)",
      "\u001b[0;32m<ipython-input-79-b669e40f80de>\u001b[0m in \u001b[0;36m<module>\u001b[0;34m()\u001b[0m\n\u001b[1;32m     10\u001b[0m \u001b[0;34m\u001b[0m\u001b[0m\n\u001b[1;32m     11\u001b[0m \u001b[0;32mfor\u001b[0m \u001b[0mrow\u001b[0m \u001b[0;32min\u001b[0m \u001b[0mreader\u001b[0m\u001b[0;34m:\u001b[0m\u001b[0;34m\u001b[0m\u001b[0m\n\u001b[0;32m---> 12\u001b[0;31m     \u001b[0mcur\u001b[0m\u001b[0;34m.\u001b[0m\u001b[0mexecute\u001b[0m\u001b[0;34m(\u001b[0m\u001b[0;34m\"INSERT INTO utterances VALUES (?, ?, ?, ?)\"\u001b[0m\u001b[0;34m,\u001b[0m \u001b[0mrow\u001b[0m\u001b[0;34m)\u001b[0m\u001b[0;34m\u001b[0m\u001b[0m\n\u001b[0m\u001b[1;32m     13\u001b[0m \u001b[0;34m\u001b[0m\u001b[0m\n\u001b[1;32m     14\u001b[0m \u001b[0mf\u001b[0m\u001b[0;34m.\u001b[0m\u001b[0mclose\u001b[0m\u001b[0;34m(\u001b[0m\u001b[0;34m)\u001b[0m\u001b[0;34m\u001b[0m\u001b[0m\n",
      "\u001b[0;31mProgrammingError\u001b[0m: Incorrect number of bindings supplied. The current statement uses 4, and there are 5 supplied."
     ]
    }
   ],
   "source": [
    "f=open('comma_delim_trunc.csv','r') # open the csv data file\n",
    "next(f, None) # skip the header row\n",
    "reader = csv.reader(f)\n",
    "\n",
    "sql = sqlite3.connect('example.db')\n",
    "cur = sql.cursor()\n",
    "\n",
    "cur.execute('''CREATE TABLE IF NOT EXISTS utterances\n",
    "            (username)''') # create the table if it doesn't already exist\n",
    "\n",
    "for row in reader:\n",
    "    cur.execute(\"INSERT INTO utterances VALUES (?, ?, ?, ?)\", row)\n",
    "\n",
    "f.close()\n",
    "sql.commit()\n",
    "sql.close()"
   ]
  },
  {
   "cell_type": "code",
   "execution_count": 26,
   "metadata": {},
   "outputs": [],
   "source": [
    "top_posters = df2.loc[:, 'username'].value_counts().head(10)"
   ]
  },
  {
   "cell_type": "code",
   "execution_count": 27,
   "metadata": {},
   "outputs": [
    {
     "data": {
      "text/plain": [
       "tptacek        6491\n",
       "jacquesm       4401\n",
       "eru            4212\n",
       "pjmlp          3405\n",
       "pg             2805\n",
       "wmf            2774\n",
       "jrockway       2618\n",
       "Tichy          2588\n",
       "gaius          2572\n",
       "icebraining    2361\n",
       "Name: username, dtype: int64"
      ]
     },
     "execution_count": 27,
     "metadata": {},
     "output_type": "execute_result"
    }
   ],
   "source": [
    "top_posters"
   ]
  },
  {
   "cell_type": "code",
   "execution_count": 24,
   "metadata": {},
   "outputs": [],
   "source": [
    "df2['is_vip'] = [True if x in top_posters.index else False for x in df2.loc[:, 'username']]"
   ]
  },
  {
   "cell_type": "code",
   "execution_count": 25,
   "metadata": {},
   "outputs": [
    {
     "data": {
      "text/html": [
       "<div>\n",
       "<style scoped>\n",
       "    .dataframe tbody tr th:only-of-type {\n",
       "        vertical-align: middle;\n",
       "    }\n",
       "\n",
       "    .dataframe tbody tr th {\n",
       "        vertical-align: top;\n",
       "    }\n",
       "\n",
       "    .dataframe thead th {\n",
       "        text-align: right;\n",
       "    }\n",
       "</style>\n",
       "<table border=\"1\" class=\"dataframe\">\n",
       "  <thead>\n",
       "    <tr style=\"text-align: right;\">\n",
       "      <th></th>\n",
       "      <th>id</th>\n",
       "      <th>username</th>\n",
       "      <th>comments</th>\n",
       "      <th>is_vip</th>\n",
       "    </tr>\n",
       "    <tr>\n",
       "      <th>posted_datetime</th>\n",
       "      <th></th>\n",
       "      <th></th>\n",
       "      <th></th>\n",
       "      <th></th>\n",
       "    </tr>\n",
       "  </thead>\n",
       "  <tbody>\n",
       "    <tr>\n",
       "      <th>2006-10-09 19:52:45</th>\n",
       "      <td>17</td>\n",
       "      <td>pg</td>\n",
       "      <td>Is there anywhere to eat on Sandhill Road?</td>\n",
       "      <td>True</td>\n",
       "    </tr>\n",
       "    <tr>\n",
       "      <th>2006-10-10 02:18:22</th>\n",
       "      <td>22</td>\n",
       "      <td>pg</td>\n",
       "      <td>It's kind of funny that Sevin Rosen is giving ...</td>\n",
       "      <td>True</td>\n",
       "    </tr>\n",
       "    <tr>\n",
       "      <th>2006-10-10 15:50:40</th>\n",
       "      <td>33</td>\n",
       "      <td>spez</td>\n",
       "      <td>winnar winnar chicken dinnar!</td>\n",
       "      <td>False</td>\n",
       "    </tr>\n",
       "    <tr>\n",
       "      <th>2006-10-10 15:53:53</th>\n",
       "      <td>34</td>\n",
       "      <td>pg</td>\n",
       "      <td>what do you mean?  this story's still not #1</td>\n",
       "      <td>True</td>\n",
       "    </tr>\n",
       "    <tr>\n",
       "      <th>2006-10-10 22:46:08</th>\n",
       "      <td>41</td>\n",
       "      <td>starklysnarky</td>\n",
       "      <td>it's interesting how a simple set of features ...</td>\n",
       "      <td>False</td>\n",
       "    </tr>\n",
       "  </tbody>\n",
       "</table>\n",
       "</div>"
      ],
      "text/plain": [
       "                     id       username  \\\n",
       "posted_datetime                          \n",
       "2006-10-09 19:52:45  17             pg   \n",
       "2006-10-10 02:18:22  22             pg   \n",
       "2006-10-10 15:50:40  33           spez   \n",
       "2006-10-10 15:53:53  34             pg   \n",
       "2006-10-10 22:46:08  41  starklysnarky   \n",
       "\n",
       "                                                              comments  is_vip  \n",
       "posted_datetime                                                                 \n",
       "2006-10-09 19:52:45         Is there anywhere to eat on Sandhill Road?    True  \n",
       "2006-10-10 02:18:22  It's kind of funny that Sevin Rosen is giving ...    True  \n",
       "2006-10-10 15:50:40                      winnar winnar chicken dinnar!   False  \n",
       "2006-10-10 15:53:53       what do you mean?  this story's still not #1    True  \n",
       "2006-10-10 22:46:08  it's interesting how a simple set of features ...   False  "
      ]
     },
     "execution_count": 25,
     "metadata": {},
     "output_type": "execute_result"
    }
   ],
   "source": [
    "df2.head()"
   ]
  },
  {
   "cell_type": "markdown",
   "metadata": {},
   "source": [
    "Using both the users and user_comments table, write a query to calculate what percentage of comments were made in the first 30 days of the users account."
   ]
  },
  {
   "cell_type": "markdown",
   "metadata": {},
   "source": [
    "Question 3\n",
    "You’ve cleaned and imported the file above into the database successfully. Great! The data is stored in a table called user_comments. Now you want to list the top-10 most prolific posters, by username. Write a query that produces this result.\n",
    "Question 4\n",
    "There’s another table in your database called users that has the following columns:\n",
    " - username\n",
    " - name\n",
    " - is_vip\n",
    " - joined_datetime\n",
    "\n",
    "Write a query that updates the users table so that only the top-10 posters have a value for is_vip.\n",
    "Question 5\n",
    "Using both the users and user_comments table, write a query to calculate what percentage of comments were made in the first 30 days of the users account."
   ]
  },
  {
   "cell_type": "code",
   "execution_count": 9,
   "metadata": {},
   "outputs": [],
   "source": [
    "SELECT u.joined_date, c.posted_datetime\n",
    "FROM users u, user_comments c\n",
    "Where whatever between joined_datetime and DATEADD(d, 30, joined_datetime)\n",
    "\n",
    "#insert into fruit (color_id, name)\n",
    "# select 11, 'banana'\n",
    "# where exists \n",
    "# (select * from fruit join colors on fruit.color_id = colors.id\n",
    "# where colors.id = 11 and colors.owner = 6);"
   ]
  }
 ],
 "metadata": {
  "kernelspec": {
   "display_name": "Python 3",
   "language": "python",
   "name": "python3"
  },
  "language_info": {
   "codemirror_mode": {
    "name": "ipython",
    "version": 3
   },
   "file_extension": ".py",
   "mimetype": "text/x-python",
   "name": "python",
   "nbconvert_exporter": "python",
   "pygments_lexer": "ipython3",
   "version": "3.6.5"
  }
 },
 "nbformat": 4,
 "nbformat_minor": 2
}
